{
  "cells": [
    {
      "cell_type": "markdown",
      "metadata": {
        "id": "view-in-github",
        "colab_type": "text"
      },
      "source": [
        "<a href=\"https://colab.research.google.com/github/Sagar8902/Git/blob/master/Pandas.ipynb\" target=\"_parent\"><img src=\"https://colab.research.google.com/assets/colab-badge.svg\" alt=\"Open In Colab\"/></a>"
      ]
    },
    {
      "cell_type": "code",
      "execution_count": null,
      "id": "e5b8eeea-0568-4ebc-94ea-242ec94ea5e4",
      "metadata": {
        "id": "e5b8eeea-0568-4ebc-94ea-242ec94ea5e4"
      },
      "outputs": [],
      "source": [
        "# importing pandas"
      ]
    },
    {
      "cell_type": "code",
      "execution_count": null,
      "id": "2f2eb1d2-6c09-4d49-bd44-f63a96c87978",
      "metadata": {
        "id": "2f2eb1d2-6c09-4d49-bd44-f63a96c87978",
        "outputId": "1676b080-8e3a-4df5-c286-aeefb15686d0"
      },
      "outputs": [
        {
          "name": "stdout",
          "output_type": "stream",
          "text": [
            "Requirement already satisfied: pandas in c:\\users\\abc\\appdata\\local\\programs\\python\\python312\\lib\\site-packages (2.2.2)\n",
            "Requirement already satisfied: numpy>=1.26.0 in c:\\users\\abc\\appdata\\local\\programs\\python\\python312\\lib\\site-packages (from pandas) (1.26.4)\n",
            "Requirement already satisfied: python-dateutil>=2.8.2 in c:\\users\\abc\\appdata\\local\\programs\\python\\python312\\lib\\site-packages (from pandas) (2.9.0.post0)\n",
            "Requirement already satisfied: pytz>=2020.1 in c:\\users\\abc\\appdata\\local\\programs\\python\\python312\\lib\\site-packages (from pandas) (2024.1)\n",
            "Requirement already satisfied: tzdata>=2022.7 in c:\\users\\abc\\appdata\\local\\programs\\python\\python312\\lib\\site-packages (from pandas) (2024.1)\n",
            "Requirement already satisfied: six>=1.5 in c:\\users\\abc\\appdata\\local\\programs\\python\\python312\\lib\\site-packages (from python-dateutil>=2.8.2->pandas) (1.16.0)\n"
          ]
        }
      ],
      "source": [
        "!pip install pandas"
      ]
    },
    {
      "cell_type": "code",
      "execution_count": null,
      "id": "ac85b7a6-69c2-4b70-9092-0f85b6181e44",
      "metadata": {
        "id": "ac85b7a6-69c2-4b70-9092-0f85b6181e44"
      },
      "outputs": [],
      "source": [
        "import pandas as pd\n",
        "import numpy as np"
      ]
    },
    {
      "cell_type": "markdown",
      "id": "623b7e73-0e5b-41e6-acc2-a3a775c4ba89",
      "metadata": {
        "id": "623b7e73-0e5b-41e6-acc2-a3a775c4ba89"
      },
      "source": [
        "### Series"
      ]
    },
    {
      "cell_type": "code",
      "execution_count": null,
      "id": "9059473f-75b9-4330-bf55-e2a9dae93308",
      "metadata": {
        "id": "9059473f-75b9-4330-bf55-e2a9dae93308"
      },
      "outputs": [],
      "source": [
        "ticker = [\"tata\",\"tcs\",\"infosys\",\"techmahindra\",\"l&t\",\"jio\"]"
      ]
    },
    {
      "cell_type": "code",
      "execution_count": null,
      "id": "870a9c29-831e-470e-9999-95272fefc496",
      "metadata": {
        "id": "870a9c29-831e-470e-9999-95272fefc496"
      },
      "outputs": [],
      "source": [
        "ser = pd.Series(ticker,index=[\"ta\",\"t\",\"i\",\"tm\",\"l\",\"j\"])\n"
      ]
    },
    {
      "cell_type": "code",
      "execution_count": null,
      "id": "28945283-6183-481e-a66a-97016d5a5c31",
      "metadata": {
        "id": "28945283-6183-481e-a66a-97016d5a5c31",
        "outputId": "3a1fb412-88f5-4a40-ad75-84e153e5a9ef"
      },
      "outputs": [
        {
          "data": {
            "text/plain": [
              "ta            tata\n",
              "t              tcs\n",
              "i          infosys\n",
              "tm    techmahindra\n",
              "l              l&t\n",
              "j              jio\n",
              "dtype: object"
            ]
          },
          "execution_count": 6,
          "metadata": {},
          "output_type": "execute_result"
        }
      ],
      "source": [
        "ser"
      ]
    },
    {
      "cell_type": "code",
      "execution_count": null,
      "id": "763526fb-3725-4014-babc-40d88ff0c47d",
      "metadata": {
        "id": "763526fb-3725-4014-babc-40d88ff0c47d",
        "outputId": "2a1f2de6-9ba1-4c82-9d76-f0be2b8fbde1"
      },
      "outputs": [
        {
          "data": {
            "text/plain": [
              "['tata', 'tcs', 'infosys', 'techmahindra', 'l&t', 'jio']"
            ]
          },
          "execution_count": 7,
          "metadata": {},
          "output_type": "execute_result"
        }
      ],
      "source": [
        "ticker"
      ]
    },
    {
      "cell_type": "code",
      "execution_count": null,
      "id": "4a354d03-ea6b-45eb-8094-d15c2af77d4d",
      "metadata": {
        "id": "4a354d03-ea6b-45eb-8094-d15c2af77d4d",
        "outputId": "e740e901-c4cf-43fa-d472-ddd3e7bdaa36"
      },
      "outputs": [
        {
          "data": {
            "text/plain": [
              "ta            tata\n",
              "t              tcs\n",
              "i          infosys\n",
              "tm    techmahindra\n",
              "l              l&t\n",
              "j              jio\n",
              "dtype: object"
            ]
          },
          "execution_count": 14,
          "metadata": {},
          "output_type": "execute_result"
        }
      ],
      "source": [
        "ser"
      ]
    },
    {
      "cell_type": "code",
      "execution_count": null,
      "id": "7f17fa38-2ec1-4a1e-a7cf-77b698898162",
      "metadata": {
        "id": "7f17fa38-2ec1-4a1e-a7cf-77b698898162",
        "outputId": "8e035345-6e79-40b5-c3fe-f285f31e80c7"
      },
      "outputs": [
        {
          "data": {
            "text/plain": [
              "'tcs'"
            ]
          },
          "execution_count": 16,
          "metadata": {},
          "output_type": "execute_result"
        }
      ],
      "source": [
        "ser[\"t\"]"
      ]
    },
    {
      "cell_type": "code",
      "execution_count": null,
      "id": "b908b962-b14a-4b68-a34d-b1f042ea54d6",
      "metadata": {
        "id": "b908b962-b14a-4b68-a34d-b1f042ea54d6",
        "outputId": "325e7544-ad66-4b81-d06f-d71760b3950e"
      },
      "outputs": [
        {
          "data": {
            "text/plain": [
              "'jio'"
            ]
          },
          "execution_count": 17,
          "metadata": {},
          "output_type": "execute_result"
        }
      ],
      "source": [
        "ser[\"j\"]"
      ]
    },
    {
      "cell_type": "code",
      "execution_count": null,
      "id": "75936105-76da-44b8-92c3-4a919bf6d2c8",
      "metadata": {
        "id": "75936105-76da-44b8-92c3-4a919bf6d2c8"
      },
      "outputs": [],
      "source": [
        "ser.index=[1,2,3,4,5,6]"
      ]
    },
    {
      "cell_type": "code",
      "execution_count": null,
      "id": "8f24f42a-0d4d-4bf2-83cc-1e3b79921cb4",
      "metadata": {
        "id": "8f24f42a-0d4d-4bf2-83cc-1e3b79921cb4",
        "outputId": "334a2b3f-450d-4a5f-a0e6-f011ec91a4d1"
      },
      "outputs": [
        {
          "data": {
            "text/plain": [
              "1            tata\n",
              "2             tcs\n",
              "3         infosys\n",
              "4    techmahindra\n",
              "5             l&t\n",
              "6             jio\n",
              "dtype: object"
            ]
          },
          "execution_count": 19,
          "metadata": {},
          "output_type": "execute_result"
        }
      ],
      "source": [
        "ser"
      ]
    },
    {
      "cell_type": "code",
      "execution_count": null,
      "id": "bd1e2b1e-0cf8-4859-9995-e9c01c503999",
      "metadata": {
        "id": "bd1e2b1e-0cf8-4859-9995-e9c01c503999",
        "outputId": "549ba670-38af-4544-9ec3-d9db4b11bb48"
      },
      "outputs": [
        {
          "data": {
            "text/plain": [
              "'l&t'"
            ]
          },
          "execution_count": 20,
          "metadata": {},
          "output_type": "execute_result"
        }
      ],
      "source": [
        "ser[5]"
      ]
    },
    {
      "cell_type": "markdown",
      "id": "3cdc8fa1-48ff-45e6-9545-3c753278344e",
      "metadata": {
        "id": "3cdc8fa1-48ff-45e6-9545-3c753278344e"
      },
      "source": [
        "### Dataframe"
      ]
    },
    {
      "cell_type": "code",
      "execution_count": null,
      "id": "b7d957de-fc64-42ad-a271-2c9bc57c2df9",
      "metadata": {
        "id": "b7d957de-fc64-42ad-a271-2c9bc57c2df9"
      },
      "outputs": [],
      "source": [
        "list = [[\"tcs\",254,250,245,260,267],\n",
        "       [\"jio\",65,68,54,72,65],\n",
        "       [\"relience\",2145,2254,2024,2295,2285]]"
      ]
    },
    {
      "cell_type": "code",
      "execution_count": null,
      "id": "4a3e3227-7bb4-4c79-b2e8-80939284bd9e",
      "metadata": {
        "id": "4a3e3227-7bb4-4c79-b2e8-80939284bd9e",
        "outputId": "f3349089-f82e-4a4c-99ba-a407bfba5cac"
      },
      "outputs": [
        {
          "data": {
            "text/plain": [
              "[['tcs', 254, 250, 245, 260, 267],\n",
              " ['jio', 65, 68, 54, 72, 65],\n",
              " ['relience', 2145, 2254, 2024, 2295, 2285]]"
            ]
          },
          "execution_count": 23,
          "metadata": {},
          "output_type": "execute_result"
        }
      ],
      "source": [
        "list #list type"
      ]
    },
    {
      "cell_type": "code",
      "execution_count": null,
      "id": "54792e16-9532-4eba-a19d-c196cb32c030",
      "metadata": {
        "id": "54792e16-9532-4eba-a19d-c196cb32c030",
        "outputId": "f816d38a-455a-4637-da5a-c18738f55ff2"
      },
      "outputs": [
        {
          "data": {
            "text/plain": [
              "array([['tcs', '254', '250', '245', '260', '267'],\n",
              "       ['jio', '65', '68', '54', '72', '65'],\n",
              "       ['relience', '2145', '2254', '2024', '2295', '2285']], dtype='<U11')"
            ]
          },
          "execution_count": 27,
          "metadata": {},
          "output_type": "execute_result"
        }
      ],
      "source": [
        "arr = np.array(list) #array\n",
        "arr"
      ]
    },
    {
      "cell_type": "code",
      "execution_count": null,
      "id": "acc842f2-0ba6-499e-aab2-5f1a13f36964",
      "metadata": {
        "id": "acc842f2-0ba6-499e-aab2-5f1a13f36964",
        "outputId": "3f2aa1fa-0a51-46e8-84cd-219ceb023e26"
      },
      "outputs": [
        {
          "data": {
            "text/plain": [
              "['jio', 65, 68, 54, 72, 65]"
            ]
          },
          "execution_count": 28,
          "metadata": {},
          "output_type": "execute_result"
        }
      ],
      "source": [
        "list[1]"
      ]
    },
    {
      "cell_type": "code",
      "execution_count": null,
      "id": "031d3e17-0c30-43ca-aa73-b1602c6c0106",
      "metadata": {
        "id": "031d3e17-0c30-43ca-aa73-b1602c6c0106",
        "outputId": "785039c3-6fef-4f23-8e5b-c6b0294a1ce9"
      },
      "outputs": [
        {
          "data": {
            "text/plain": [
              "54"
            ]
          },
          "execution_count": 34,
          "metadata": {},
          "output_type": "execute_result"
        }
      ],
      "source": [
        "list[1][3]"
      ]
    },
    {
      "cell_type": "code",
      "execution_count": null,
      "id": "caa0c20b-57b7-456d-aab6-d447e58f1283",
      "metadata": {
        "id": "caa0c20b-57b7-456d-aab6-d447e58f1283",
        "outputId": "355c1f89-10ed-4799-8206-a3e15947a212"
      },
      "outputs": [
        {
          "data": {
            "text/plain": [
              "array(['jio', '65', '68', '54', '72', '65'], dtype='<U11')"
            ]
          },
          "execution_count": 32,
          "metadata": {},
          "output_type": "execute_result"
        }
      ],
      "source": [
        "arr[1]"
      ]
    },
    {
      "cell_type": "code",
      "execution_count": null,
      "id": "33514145-7430-4a31-ae0c-c150ce201d8c",
      "metadata": {
        "id": "33514145-7430-4a31-ae0c-c150ce201d8c",
        "outputId": "9547f3a7-81b0-4a81-9191-bb9eddf09601"
      },
      "outputs": [
        {
          "data": {
            "text/plain": [
              "array(['tcs', '254', '250', '245', '260', '267'], dtype='<U11')"
            ]
          },
          "execution_count": 38,
          "metadata": {},
          "output_type": "execute_result"
        }
      ],
      "source": [
        "arr[0]"
      ]
    },
    {
      "cell_type": "code",
      "execution_count": null,
      "id": "784b2926-9056-46e7-a378-8242cac6c158",
      "metadata": {
        "id": "784b2926-9056-46e7-a378-8242cac6c158",
        "outputId": "530dd5d5-7801-4597-e017-f79742431243"
      },
      "outputs": [
        {
          "data": {
            "text/plain": [
              "'68'"
            ]
          },
          "execution_count": 33,
          "metadata": {},
          "output_type": "execute_result"
        }
      ],
      "source": [
        "arr[1,2]"
      ]
    },
    {
      "cell_type": "code",
      "execution_count": null,
      "id": "579b4e7c-2800-4a00-9c62-4fcae472d6f6",
      "metadata": {
        "id": "579b4e7c-2800-4a00-9c62-4fcae472d6f6"
      },
      "outputs": [],
      "source": [
        "df = pd.DataFrame(list)"
      ]
    },
    {
      "cell_type": "code",
      "execution_count": null,
      "id": "4fd4fff7-34f1-482b-8b94-ca2ec5d4c673",
      "metadata": {
        "id": "4fd4fff7-34f1-482b-8b94-ca2ec5d4c673",
        "outputId": "cff9963a-639d-41f5-82a1-9266a73dc4a6"
      },
      "outputs": [
        {
          "data": {
            "text/html": [
              "<div>\n",
              "<style scoped>\n",
              "    .dataframe tbody tr th:only-of-type {\n",
              "        vertical-align: middle;\n",
              "    }\n",
              "\n",
              "    .dataframe tbody tr th {\n",
              "        vertical-align: top;\n",
              "    }\n",
              "\n",
              "    .dataframe thead th {\n",
              "        text-align: right;\n",
              "    }\n",
              "</style>\n",
              "<table border=\"1\" class=\"dataframe\">\n",
              "  <thead>\n",
              "    <tr style=\"text-align: right;\">\n",
              "      <th></th>\n",
              "      <th>0</th>\n",
              "      <th>1</th>\n",
              "      <th>2</th>\n",
              "      <th>3</th>\n",
              "      <th>4</th>\n",
              "      <th>5</th>\n",
              "    </tr>\n",
              "  </thead>\n",
              "  <tbody>\n",
              "    <tr>\n",
              "      <th>0</th>\n",
              "      <td>tcs</td>\n",
              "      <td>254</td>\n",
              "      <td>250</td>\n",
              "      <td>245</td>\n",
              "      <td>260</td>\n",
              "      <td>267</td>\n",
              "    </tr>\n",
              "    <tr>\n",
              "      <th>1</th>\n",
              "      <td>jio</td>\n",
              "      <td>65</td>\n",
              "      <td>68</td>\n",
              "      <td>54</td>\n",
              "      <td>72</td>\n",
              "      <td>65</td>\n",
              "    </tr>\n",
              "    <tr>\n",
              "      <th>2</th>\n",
              "      <td>relience</td>\n",
              "      <td>2145</td>\n",
              "      <td>2254</td>\n",
              "      <td>2024</td>\n",
              "      <td>2295</td>\n",
              "      <td>2285</td>\n",
              "    </tr>\n",
              "  </tbody>\n",
              "</table>\n",
              "</div>"
            ],
            "text/plain": [
              "          0     1     2     3     4     5\n",
              "0       tcs   254   250   245   260   267\n",
              "1       jio    65    68    54    72    65\n",
              "2  relience  2145  2254  2024  2295  2285"
            ]
          },
          "execution_count": 37,
          "metadata": {},
          "output_type": "execute_result"
        }
      ],
      "source": [
        "df"
      ]
    },
    {
      "cell_type": "code",
      "execution_count": null,
      "id": "6985877b-78b4-4910-96d5-cad9231f435b",
      "metadata": {
        "id": "6985877b-78b4-4910-96d5-cad9231f435b",
        "outputId": "f3d804b4-e3fc-4e30-d008-d3482a28ea3f"
      },
      "outputs": [
        {
          "data": {
            "text/plain": [
              "0         tcs\n",
              "1         jio\n",
              "2    relience\n",
              "Name: 0, dtype: object"
            ]
          },
          "execution_count": 39,
          "metadata": {},
          "output_type": "execute_result"
        }
      ],
      "source": [
        "df[0]"
      ]
    },
    {
      "cell_type": "code",
      "execution_count": null,
      "id": "5693178e-dc9d-4260-a7ee-673cd791e9ff",
      "metadata": {
        "id": "5693178e-dc9d-4260-a7ee-673cd791e9ff",
        "outputId": "b39e3474-643d-4284-98f8-ea2db7d97887"
      },
      "outputs": [
        {
          "data": {
            "text/plain": [
              "0    tcs\n",
              "1    254\n",
              "2    250\n",
              "3    245\n",
              "4    260\n",
              "5    267\n",
              "Name: 0, dtype: object"
            ]
          },
          "execution_count": 41,
          "metadata": {},
          "output_type": "execute_result"
        }
      ],
      "source": [
        "df.loc[0]"
      ]
    },
    {
      "cell_type": "code",
      "execution_count": null,
      "id": "733e6ef6-8343-4253-a7ac-838e1caab04c",
      "metadata": {
        "id": "733e6ef6-8343-4253-a7ac-838e1caab04c"
      },
      "outputs": [],
      "source": [
        "df.columns = [\"Stocks\",\"ltp\",\"Open\",\"Low\",\"High\",\"Close\"]"
      ]
    },
    {
      "cell_type": "code",
      "execution_count": null,
      "id": "dc4f7c6b-4edc-41f5-8e0f-3cd0cac816c9",
      "metadata": {
        "id": "dc4f7c6b-4edc-41f5-8e0f-3cd0cac816c9",
        "outputId": "3cb1e4eb-bf3c-416c-e550-023c203efb8e"
      },
      "outputs": [
        {
          "data": {
            "text/html": [
              "<div>\n",
              "<style scoped>\n",
              "    .dataframe tbody tr th:only-of-type {\n",
              "        vertical-align: middle;\n",
              "    }\n",
              "\n",
              "    .dataframe tbody tr th {\n",
              "        vertical-align: top;\n",
              "    }\n",
              "\n",
              "    .dataframe thead th {\n",
              "        text-align: right;\n",
              "    }\n",
              "</style>\n",
              "<table border=\"1\" class=\"dataframe\">\n",
              "  <thead>\n",
              "    <tr style=\"text-align: right;\">\n",
              "      <th></th>\n",
              "      <th>Stocks</th>\n",
              "      <th>ltp</th>\n",
              "      <th>Open</th>\n",
              "      <th>Low</th>\n",
              "      <th>High</th>\n",
              "      <th>Close</th>\n",
              "    </tr>\n",
              "  </thead>\n",
              "  <tbody>\n",
              "    <tr>\n",
              "      <th>0</th>\n",
              "      <td>tcs</td>\n",
              "      <td>254</td>\n",
              "      <td>250</td>\n",
              "      <td>245</td>\n",
              "      <td>260</td>\n",
              "      <td>267</td>\n",
              "    </tr>\n",
              "    <tr>\n",
              "      <th>1</th>\n",
              "      <td>jio</td>\n",
              "      <td>65</td>\n",
              "      <td>68</td>\n",
              "      <td>54</td>\n",
              "      <td>72</td>\n",
              "      <td>65</td>\n",
              "    </tr>\n",
              "    <tr>\n",
              "      <th>2</th>\n",
              "      <td>relience</td>\n",
              "      <td>2145</td>\n",
              "      <td>2254</td>\n",
              "      <td>2024</td>\n",
              "      <td>2295</td>\n",
              "      <td>2285</td>\n",
              "    </tr>\n",
              "  </tbody>\n",
              "</table>\n",
              "</div>"
            ],
            "text/plain": [
              "     Stocks   ltp  Open   Low  High  Close\n",
              "0       tcs   254   250   245   260    267\n",
              "1       jio    65    68    54    72     65\n",
              "2  relience  2145  2254  2024  2295   2285"
            ]
          },
          "execution_count": 46,
          "metadata": {},
          "output_type": "execute_result"
        }
      ],
      "source": [
        "df"
      ]
    },
    {
      "cell_type": "code",
      "execution_count": null,
      "id": "6fbe031d-d289-4f6e-b2bc-c809cd61667a",
      "metadata": {
        "id": "6fbe031d-d289-4f6e-b2bc-c809cd61667a"
      },
      "outputs": [],
      "source": [
        "df.index=[\"t\",\"j\",\"r\"]"
      ]
    },
    {
      "cell_type": "code",
      "execution_count": null,
      "id": "5182ffcb-d5d5-48c2-a8f3-bfa12f9e901c",
      "metadata": {
        "id": "5182ffcb-d5d5-48c2-a8f3-bfa12f9e901c",
        "outputId": "0edcdd4c-b159-4ccc-b2c4-7d1621102098"
      },
      "outputs": [
        {
          "data": {
            "text/html": [
              "<div>\n",
              "<style scoped>\n",
              "    .dataframe tbody tr th:only-of-type {\n",
              "        vertical-align: middle;\n",
              "    }\n",
              "\n",
              "    .dataframe tbody tr th {\n",
              "        vertical-align: top;\n",
              "    }\n",
              "\n",
              "    .dataframe thead th {\n",
              "        text-align: right;\n",
              "    }\n",
              "</style>\n",
              "<table border=\"1\" class=\"dataframe\">\n",
              "  <thead>\n",
              "    <tr style=\"text-align: right;\">\n",
              "      <th></th>\n",
              "      <th>Stocks</th>\n",
              "      <th>ltp</th>\n",
              "      <th>Open</th>\n",
              "      <th>Low</th>\n",
              "      <th>High</th>\n",
              "      <th>Close</th>\n",
              "    </tr>\n",
              "  </thead>\n",
              "  <tbody>\n",
              "    <tr>\n",
              "      <th>t</th>\n",
              "      <td>tcs</td>\n",
              "      <td>254</td>\n",
              "      <td>250</td>\n",
              "      <td>245</td>\n",
              "      <td>260</td>\n",
              "      <td>267</td>\n",
              "    </tr>\n",
              "    <tr>\n",
              "      <th>j</th>\n",
              "      <td>jio</td>\n",
              "      <td>65</td>\n",
              "      <td>68</td>\n",
              "      <td>54</td>\n",
              "      <td>72</td>\n",
              "      <td>65</td>\n",
              "    </tr>\n",
              "    <tr>\n",
              "      <th>r</th>\n",
              "      <td>relience</td>\n",
              "      <td>2145</td>\n",
              "      <td>2254</td>\n",
              "      <td>2024</td>\n",
              "      <td>2295</td>\n",
              "      <td>2285</td>\n",
              "    </tr>\n",
              "  </tbody>\n",
              "</table>\n",
              "</div>"
            ],
            "text/plain": [
              "     Stocks   ltp  Open   Low  High  Close\n",
              "t       tcs   254   250   245   260    267\n",
              "j       jio    65    68    54    72     65\n",
              "r  relience  2145  2254  2024  2295   2285"
            ]
          },
          "execution_count": 48,
          "metadata": {},
          "output_type": "execute_result"
        }
      ],
      "source": [
        "df"
      ]
    },
    {
      "cell_type": "code",
      "execution_count": null,
      "id": "c35e3774-35ab-4b1c-ac51-5c2931f616b4",
      "metadata": {
        "id": "c35e3774-35ab-4b1c-ac51-5c2931f616b4",
        "outputId": "cb6ff3c8-79b0-4ee4-e5d1-340773842ecf"
      },
      "outputs": [
        {
          "data": {
            "text/plain": [
              "t         tcs\n",
              "j         jio\n",
              "r    relience\n",
              "Name: Stocks, dtype: object"
            ]
          },
          "execution_count": 51,
          "metadata": {},
          "output_type": "execute_result"
        }
      ],
      "source": [
        "df[\"Stocks\"]"
      ]
    },
    {
      "cell_type": "code",
      "execution_count": null,
      "id": "19191f4f-0440-43e9-91a0-0ac1c1309d5e",
      "metadata": {
        "id": "19191f4f-0440-43e9-91a0-0ac1c1309d5e",
        "outputId": "500b861c-c8ad-4493-9655-17670f31aef3"
      },
      "outputs": [
        {
          "data": {
            "text/plain": [
              "Stocks    tcs\n",
              "ltp       254\n",
              "Open      250\n",
              "Low       245\n",
              "High      260\n",
              "Close     267\n",
              "Name: t, dtype: object"
            ]
          },
          "execution_count": 53,
          "metadata": {},
          "output_type": "execute_result"
        }
      ],
      "source": [
        "df.loc[\"t\"]"
      ]
    },
    {
      "cell_type": "code",
      "execution_count": null,
      "id": "6bf872fc-2d42-463b-8cbb-d422fbfe81d2",
      "metadata": {
        "id": "6bf872fc-2d42-463b-8cbb-d422fbfe81d2",
        "outputId": "5bf2548e-6730-42c1-ca97-ba07aa3c009a"
      },
      "outputs": [
        {
          "data": {
            "text/plain": [
              "t     260\n",
              "j      72\n",
              "r    2295\n",
              "Name: High, dtype: int64"
            ]
          },
          "execution_count": 54,
          "metadata": {},
          "output_type": "execute_result"
        }
      ],
      "source": [
        "df[\"High\"]"
      ]
    },
    {
      "cell_type": "code",
      "execution_count": null,
      "id": "abec36f1-4a07-4e2c-b8c4-34b91d39c230",
      "metadata": {
        "id": "abec36f1-4a07-4e2c-b8c4-34b91d39c230",
        "outputId": "f66132d5-c6f2-474c-99ce-fb4ecc461576"
      },
      "outputs": [
        {
          "data": {
            "text/plain": [
              "2295"
            ]
          },
          "execution_count": 55,
          "metadata": {},
          "output_type": "execute_result"
        }
      ],
      "source": [
        "df[\"High\"].loc[\"r\"]"
      ]
    },
    {
      "cell_type": "code",
      "execution_count": null,
      "id": "e4c2032b-3a3e-4e8c-b637-1f918ed44609",
      "metadata": {
        "id": "e4c2032b-3a3e-4e8c-b637-1f918ed44609",
        "outputId": "5929b83a-ffa0-4092-d1f6-49519522fafc"
      },
      "outputs": [
        {
          "data": {
            "text/plain": [
              "54"
            ]
          },
          "execution_count": 56,
          "metadata": {},
          "output_type": "execute_result"
        }
      ],
      "source": [
        "df[\"Low\"].loc[\"j\"]"
      ]
    },
    {
      "cell_type": "code",
      "execution_count": null,
      "id": "08e4c042-8816-4284-a781-46af2376b6ef",
      "metadata": {
        "id": "08e4c042-8816-4284-a781-46af2376b6ef",
        "outputId": "484f2e13-b4bc-4f96-80dd-2608b39083bc"
      },
      "outputs": [
        {
          "data": {
            "text/html": [
              "<div>\n",
              "<style scoped>\n",
              "    .dataframe tbody tr th:only-of-type {\n",
              "        vertical-align: middle;\n",
              "    }\n",
              "\n",
              "    .dataframe tbody tr th {\n",
              "        vertical-align: top;\n",
              "    }\n",
              "\n",
              "    .dataframe thead th {\n",
              "        text-align: right;\n",
              "    }\n",
              "</style>\n",
              "<table border=\"1\" class=\"dataframe\">\n",
              "  <thead>\n",
              "    <tr style=\"text-align: right;\">\n",
              "      <th></th>\n",
              "      <th>Stocks</th>\n",
              "      <th>ltp</th>\n",
              "      <th>Open</th>\n",
              "      <th>Low</th>\n",
              "      <th>High</th>\n",
              "      <th>Close</th>\n",
              "    </tr>\n",
              "  </thead>\n",
              "  <tbody>\n",
              "    <tr>\n",
              "      <th>t</th>\n",
              "      <td>tcs</td>\n",
              "      <td>254</td>\n",
              "      <td>250</td>\n",
              "      <td>245</td>\n",
              "      <td>260</td>\n",
              "      <td>267</td>\n",
              "    </tr>\n",
              "    <tr>\n",
              "      <th>j</th>\n",
              "      <td>jio</td>\n",
              "      <td>65</td>\n",
              "      <td>68</td>\n",
              "      <td>54</td>\n",
              "      <td>72</td>\n",
              "      <td>65</td>\n",
              "    </tr>\n",
              "    <tr>\n",
              "      <th>r</th>\n",
              "      <td>relience</td>\n",
              "      <td>2145</td>\n",
              "      <td>2254</td>\n",
              "      <td>2024</td>\n",
              "      <td>2295</td>\n",
              "      <td>2285</td>\n",
              "    </tr>\n",
              "  </tbody>\n",
              "</table>\n",
              "</div>"
            ],
            "text/plain": [
              "     Stocks   ltp  Open   Low  High  Close\n",
              "t       tcs   254   250   245   260    267\n",
              "j       jio    65    68    54    72     65\n",
              "r  relience  2145  2254  2024  2295   2285"
            ]
          },
          "execution_count": 57,
          "metadata": {},
          "output_type": "execute_result"
        }
      ],
      "source": [
        "df"
      ]
    },
    {
      "cell_type": "code",
      "execution_count": null,
      "id": "56f8e194-7b3a-42bc-b4f6-5bc5b9302847",
      "metadata": {
        "id": "56f8e194-7b3a-42bc-b4f6-5bc5b9302847",
        "outputId": "a2519d12-f31d-43e9-994a-8faa3baa4561"
      },
      "outputs": [
        {
          "data": {
            "text/plain": [
              "Stocks    jio\n",
              "ltp        65\n",
              "Open       68\n",
              "Low        54\n",
              "High       72\n",
              "Close      65\n",
              "Name: j, dtype: object"
            ]
          },
          "execution_count": 58,
          "metadata": {},
          "output_type": "execute_result"
        }
      ],
      "source": [
        "df.loc[\"j\"]"
      ]
    },
    {
      "cell_type": "code",
      "execution_count": null,
      "id": "077c4dd9-37c0-4041-b5ee-b9f8a08eaea7",
      "metadata": {
        "id": "077c4dd9-37c0-4041-b5ee-b9f8a08eaea7",
        "outputId": "dd3d73f1-ea59-4fd2-f892-74f73726fb46"
      },
      "outputs": [
        {
          "data": {
            "text/plain": [
              "Stocks    jio\n",
              "ltp        65\n",
              "Open       68\n",
              "Low        54\n",
              "High       72\n",
              "Close      65\n",
              "Name: j, dtype: object"
            ]
          },
          "execution_count": 60,
          "metadata": {},
          "output_type": "execute_result"
        }
      ],
      "source": [
        "df.iloc[1]"
      ]
    },
    {
      "cell_type": "code",
      "execution_count": null,
      "id": "f40ee0a0-6c32-4bc4-9249-54f08e6e8d18",
      "metadata": {
        "id": "f40ee0a0-6c32-4bc4-9249-54f08e6e8d18",
        "outputId": "5e4296a9-558d-4df7-dc48-e11080688875"
      },
      "outputs": [
        {
          "data": {
            "text/plain": [
              "2145"
            ]
          },
          "execution_count": 61,
          "metadata": {},
          "output_type": "execute_result"
        }
      ],
      "source": [
        "df[\"ltp\"].iloc[-1]"
      ]
    },
    {
      "cell_type": "code",
      "execution_count": null,
      "id": "62a7146c-344e-47ce-88ef-5f8bdad11a7b",
      "metadata": {
        "id": "62a7146c-344e-47ce-88ef-5f8bdad11a7b",
        "outputId": "6718c43b-f229-4440-9afd-f78fa8a3f757"
      },
      "outputs": [
        {
          "data": {
            "text/plain": [
              "Stocks    relience\n",
              "ltp           2145\n",
              "Open          2254\n",
              "Low           2024\n",
              "High          2295\n",
              "Close         2285\n",
              "Name: r, dtype: object"
            ]
          },
          "execution_count": 62,
          "metadata": {},
          "output_type": "execute_result"
        }
      ],
      "source": [
        "df.iloc[-1]"
      ]
    },
    {
      "cell_type": "markdown",
      "id": "343b71d1-8411-4414-9a76-ebf0fef3fb2a",
      "metadata": {
        "id": "343b71d1-8411-4414-9a76-ebf0fef3fb2a"
      },
      "source": [
        "### Add new coloums"
      ]
    },
    {
      "cell_type": "code",
      "execution_count": null,
      "id": "d130b032-e453-4a69-8c5b-d13fb4bb6efc",
      "metadata": {
        "id": "d130b032-e453-4a69-8c5b-d13fb4bb6efc"
      },
      "outputs": [],
      "source": [
        "# Add average coloum\n",
        "\n",
        "df[\"Avearge\"] = (df[\"Low\"] + df[\"High\"]) / 2"
      ]
    },
    {
      "cell_type": "code",
      "execution_count": null,
      "id": "c0049df8-b4a8-4fbd-b091-88b4dc801803",
      "metadata": {
        "id": "c0049df8-b4a8-4fbd-b091-88b4dc801803",
        "outputId": "b10bc33f-aa08-4834-f4de-25fe26a66355"
      },
      "outputs": [
        {
          "data": {
            "text/html": [
              "<div>\n",
              "<style scoped>\n",
              "    .dataframe tbody tr th:only-of-type {\n",
              "        vertical-align: middle;\n",
              "    }\n",
              "\n",
              "    .dataframe tbody tr th {\n",
              "        vertical-align: top;\n",
              "    }\n",
              "\n",
              "    .dataframe thead th {\n",
              "        text-align: right;\n",
              "    }\n",
              "</style>\n",
              "<table border=\"1\" class=\"dataframe\">\n",
              "  <thead>\n",
              "    <tr style=\"text-align: right;\">\n",
              "      <th></th>\n",
              "      <th>Stocks</th>\n",
              "      <th>ltp</th>\n",
              "      <th>Open</th>\n",
              "      <th>Low</th>\n",
              "      <th>High</th>\n",
              "      <th>Close</th>\n",
              "      <th>Avearge</th>\n",
              "    </tr>\n",
              "  </thead>\n",
              "  <tbody>\n",
              "    <tr>\n",
              "      <th>t</th>\n",
              "      <td>tcs</td>\n",
              "      <td>254</td>\n",
              "      <td>250</td>\n",
              "      <td>245</td>\n",
              "      <td>260</td>\n",
              "      <td>267</td>\n",
              "      <td>252.5</td>\n",
              "    </tr>\n",
              "    <tr>\n",
              "      <th>j</th>\n",
              "      <td>jio</td>\n",
              "      <td>65</td>\n",
              "      <td>68</td>\n",
              "      <td>54</td>\n",
              "      <td>72</td>\n",
              "      <td>65</td>\n",
              "      <td>63.0</td>\n",
              "    </tr>\n",
              "    <tr>\n",
              "      <th>r</th>\n",
              "      <td>relience</td>\n",
              "      <td>2145</td>\n",
              "      <td>2254</td>\n",
              "      <td>2024</td>\n",
              "      <td>2295</td>\n",
              "      <td>2285</td>\n",
              "      <td>2159.5</td>\n",
              "    </tr>\n",
              "  </tbody>\n",
              "</table>\n",
              "</div>"
            ],
            "text/plain": [
              "     Stocks   ltp  Open   Low  High  Close  Avearge\n",
              "t       tcs   254   250   245   260    267    252.5\n",
              "j       jio    65    68    54    72     65     63.0\n",
              "r  relience  2145  2254  2024  2295   2285   2159.5"
            ]
          },
          "execution_count": 64,
          "metadata": {},
          "output_type": "execute_result"
        }
      ],
      "source": [
        "df"
      ]
    },
    {
      "cell_type": "code",
      "execution_count": null,
      "id": "05bb681a-1d8d-44b4-8699-5fe689ba8343",
      "metadata": {
        "id": "05bb681a-1d8d-44b4-8699-5fe689ba8343"
      },
      "outputs": [],
      "source": [
        "df[\"Range\"] = (df[\"High\"] - df[\"Low\"])"
      ]
    },
    {
      "cell_type": "code",
      "execution_count": null,
      "id": "b55dcdf0-3a14-43f7-99ad-784e3ab3a279",
      "metadata": {
        "id": "b55dcdf0-3a14-43f7-99ad-784e3ab3a279",
        "outputId": "639fa8a1-19d4-4e76-a150-84888cb885fe"
      },
      "outputs": [
        {
          "data": {
            "text/html": [
              "<div>\n",
              "<style scoped>\n",
              "    .dataframe tbody tr th:only-of-type {\n",
              "        vertical-align: middle;\n",
              "    }\n",
              "\n",
              "    .dataframe tbody tr th {\n",
              "        vertical-align: top;\n",
              "    }\n",
              "\n",
              "    .dataframe thead th {\n",
              "        text-align: right;\n",
              "    }\n",
              "</style>\n",
              "<table border=\"1\" class=\"dataframe\">\n",
              "  <thead>\n",
              "    <tr style=\"text-align: right;\">\n",
              "      <th></th>\n",
              "      <th>Stocks</th>\n",
              "      <th>ltp</th>\n",
              "      <th>Open</th>\n",
              "      <th>Low</th>\n",
              "      <th>High</th>\n",
              "      <th>Close</th>\n",
              "      <th>Avearge</th>\n",
              "      <th>Range</th>\n",
              "    </tr>\n",
              "  </thead>\n",
              "  <tbody>\n",
              "    <tr>\n",
              "      <th>t</th>\n",
              "      <td>tcs</td>\n",
              "      <td>254</td>\n",
              "      <td>250</td>\n",
              "      <td>245</td>\n",
              "      <td>260</td>\n",
              "      <td>267</td>\n",
              "      <td>252.5</td>\n",
              "      <td>15</td>\n",
              "    </tr>\n",
              "    <tr>\n",
              "      <th>j</th>\n",
              "      <td>jio</td>\n",
              "      <td>65</td>\n",
              "      <td>68</td>\n",
              "      <td>54</td>\n",
              "      <td>72</td>\n",
              "      <td>65</td>\n",
              "      <td>63.0</td>\n",
              "      <td>18</td>\n",
              "    </tr>\n",
              "    <tr>\n",
              "      <th>r</th>\n",
              "      <td>relience</td>\n",
              "      <td>2145</td>\n",
              "      <td>2254</td>\n",
              "      <td>2024</td>\n",
              "      <td>2295</td>\n",
              "      <td>2285</td>\n",
              "      <td>2159.5</td>\n",
              "      <td>271</td>\n",
              "    </tr>\n",
              "  </tbody>\n",
              "</table>\n",
              "</div>"
            ],
            "text/plain": [
              "     Stocks   ltp  Open   Low  High  Close  Avearge  Range\n",
              "t       tcs   254   250   245   260    267    252.5     15\n",
              "j       jio    65    68    54    72     65     63.0     18\n",
              "r  relience  2145  2254  2024  2295   2285   2159.5    271"
            ]
          },
          "execution_count": 68,
          "metadata": {},
          "output_type": "execute_result"
        }
      ],
      "source": [
        "df"
      ]
    },
    {
      "cell_type": "markdown",
      "id": "27ac2c27-ca1d-4e6b-b70b-54d5192703d8",
      "metadata": {
        "id": "27ac2c27-ca1d-4e6b-b70b-54d5192703d8"
      },
      "source": [
        "### Token Example"
      ]
    },
    {
      "cell_type": "code",
      "execution_count": null,
      "id": "7e0fc704-df22-4cb5-b6f1-0e3d2b200ccf",
      "metadata": {
        "id": "7e0fc704-df22-4cb5-b6f1-0e3d2b200ccf"
      },
      "outputs": [],
      "source": [
        "import requests"
      ]
    },
    {
      "cell_type": "code",
      "execution_count": null,
      "id": "d29d9045-8f0f-48ff-9ac2-42a803f60c2f",
      "metadata": {
        "id": "d29d9045-8f0f-48ff-9ac2-42a803f60c2f"
      },
      "outputs": [],
      "source": [
        "url = \"https://margincalculator.angelbroking.com/OpenAPI_File/files/OpenAPIScripMaster.json\""
      ]
    },
    {
      "cell_type": "code",
      "execution_count": null,
      "id": "c8a12c33-015b-4e22-bffc-18f33de2c8b4",
      "metadata": {
        "id": "c8a12c33-015b-4e22-bffc-18f33de2c8b4"
      },
      "outputs": [],
      "source": [
        "res = requests.get(url)"
      ]
    },
    {
      "cell_type": "code",
      "execution_count": null,
      "id": "05185896-950a-4fc5-a63f-4ce60aaa7e50",
      "metadata": {
        "id": "05185896-950a-4fc5-a63f-4ce60aaa7e50",
        "outputId": "46c14647-06b9-4d8f-cbf4-05d5579beca7"
      },
      "outputs": [
        {
          "data": {
            "text/plain": [
              "<Response [200]>"
            ]
          },
          "execution_count": 76,
          "metadata": {},
          "output_type": "execute_result"
        }
      ],
      "source": [
        "res"
      ]
    },
    {
      "cell_type": "code",
      "execution_count": null,
      "id": "6d9ceb2e-76c1-496b-9458-07d25c4064a6",
      "metadata": {
        "id": "6d9ceb2e-76c1-496b-9458-07d25c4064a6"
      },
      "outputs": [],
      "source": [
        "token_data = res.json()"
      ]
    },
    {
      "cell_type": "code",
      "execution_count": null,
      "id": "373f6f61-40fa-447d-ad34-d1dfeb28212e",
      "metadata": {
        "id": "373f6f61-40fa-447d-ad34-d1dfeb28212e"
      },
      "outputs": [],
      "source": [
        "token_1 = pd.DataFrame(token_data)"
      ]
    },
    {
      "cell_type": "code",
      "execution_count": null,
      "id": "5de2bcb1-df87-490b-9548-49451d69eabc",
      "metadata": {
        "id": "5de2bcb1-df87-490b-9548-49451d69eabc",
        "outputId": "e9578832-ecf6-41f7-c312-941e3b588bb8"
      },
      "outputs": [
        {
          "data": {
            "text/html": [
              "<div>\n",
              "<style scoped>\n",
              "    .dataframe tbody tr th:only-of-type {\n",
              "        vertical-align: middle;\n",
              "    }\n",
              "\n",
              "    .dataframe tbody tr th {\n",
              "        vertical-align: top;\n",
              "    }\n",
              "\n",
              "    .dataframe thead th {\n",
              "        text-align: right;\n",
              "    }\n",
              "</style>\n",
              "<table border=\"1\" class=\"dataframe\">\n",
              "  <thead>\n",
              "    <tr style=\"text-align: right;\">\n",
              "      <th></th>\n",
              "      <th>token</th>\n",
              "      <th>symbol</th>\n",
              "      <th>name</th>\n",
              "      <th>expiry</th>\n",
              "      <th>strike</th>\n",
              "      <th>lotsize</th>\n",
              "      <th>instrumenttype</th>\n",
              "      <th>exch_seg</th>\n",
              "      <th>tick_size</th>\n",
              "    </tr>\n",
              "  </thead>\n",
              "  <tbody>\n",
              "    <tr>\n",
              "      <th>0</th>\n",
              "      <td>14415</td>\n",
              "      <td>PAGEIND-BL</td>\n",
              "      <td>PAGEIND</td>\n",
              "      <td></td>\n",
              "      <td>-1.000000</td>\n",
              "      <td>1</td>\n",
              "      <td></td>\n",
              "      <td>NSE</td>\n",
              "      <td>5.000000</td>\n",
              "    </tr>\n",
              "    <tr>\n",
              "      <th>1</th>\n",
              "      <td>23121</td>\n",
              "      <td>1090NFL26-NB</td>\n",
              "      <td>1090NFL26</td>\n",
              "      <td></td>\n",
              "      <td>-1.000000</td>\n",
              "      <td>1</td>\n",
              "      <td></td>\n",
              "      <td>NSE</td>\n",
              "      <td>1.000000</td>\n",
              "    </tr>\n",
              "    <tr>\n",
              "      <th>2</th>\n",
              "      <td>23099</td>\n",
              "      <td>738KL44-SG</td>\n",
              "      <td>738KL44</td>\n",
              "      <td></td>\n",
              "      <td>-1.000000</td>\n",
              "      <td>100</td>\n",
              "      <td></td>\n",
              "      <td>NSE</td>\n",
              "      <td>1.000000</td>\n",
              "    </tr>\n",
              "    <tr>\n",
              "      <th>3</th>\n",
              "      <td>15082</td>\n",
              "      <td>RADIOCITY-P1</td>\n",
              "      <td>RADIOCITY</td>\n",
              "      <td></td>\n",
              "      <td>-1.000000</td>\n",
              "      <td>1</td>\n",
              "      <td></td>\n",
              "      <td>NSE</td>\n",
              "      <td>5.000000</td>\n",
              "    </tr>\n",
              "    <tr>\n",
              "      <th>4</th>\n",
              "      <td>13896</td>\n",
              "      <td>77HP36-SG</td>\n",
              "      <td>77HP36</td>\n",
              "      <td></td>\n",
              "      <td>-1.000000</td>\n",
              "      <td>100</td>\n",
              "      <td></td>\n",
              "      <td>NSE</td>\n",
              "      <td>1.000000</td>\n",
              "    </tr>\n",
              "    <tr>\n",
              "      <th>...</th>\n",
              "      <td>...</td>\n",
              "      <td>...</td>\n",
              "      <td>...</td>\n",
              "      <td>...</td>\n",
              "      <td>...</td>\n",
              "      <td>...</td>\n",
              "      <td>...</td>\n",
              "      <td>...</td>\n",
              "      <td>...</td>\n",
              "    </tr>\n",
              "    <tr>\n",
              "      <th>114000</th>\n",
              "      <td>2039134</td>\n",
              "      <td>GLENMARK24JUL900CE</td>\n",
              "      <td>GLENMARK</td>\n",
              "      <td>25JUL2024</td>\n",
              "      <td>90000.000000</td>\n",
              "      <td>725</td>\n",
              "      <td>OPTSTK</td>\n",
              "      <td>BFO</td>\n",
              "      <td>5.000000</td>\n",
              "    </tr>\n",
              "    <tr>\n",
              "      <th>114001</th>\n",
              "      <td>2039060</td>\n",
              "      <td>ADANIPORTS24JUL1180CE</td>\n",
              "      <td>ADANIPORTS</td>\n",
              "      <td>25JUL2024</td>\n",
              "      <td>118000.000000</td>\n",
              "      <td>400</td>\n",
              "      <td>OPTSTK</td>\n",
              "      <td>BFO</td>\n",
              "      <td>5.000000</td>\n",
              "    </tr>\n",
              "    <tr>\n",
              "      <th>114002</th>\n",
              "      <td>862638</td>\n",
              "      <td>IOC24MAY168PE</td>\n",
              "      <td>IOC</td>\n",
              "      <td>30MAY2024</td>\n",
              "      <td>16800.000000</td>\n",
              "      <td>4875</td>\n",
              "      <td>OPTSTK</td>\n",
              "      <td>BFO</td>\n",
              "      <td>5.000000</td>\n",
              "    </tr>\n",
              "    <tr>\n",
              "      <th>114003</th>\n",
              "      <td>1111058</td>\n",
              "      <td>BANKEX24JUL56400CE</td>\n",
              "      <td>BANKEX</td>\n",
              "      <td>29JUL2024</td>\n",
              "      <td>5640000.000000</td>\n",
              "      <td>15</td>\n",
              "      <td>OPTIDX</td>\n",
              "      <td>BFO</td>\n",
              "      <td>5.000000</td>\n",
              "    </tr>\n",
              "    <tr>\n",
              "      <th>114004</th>\n",
              "      <td>862487</td>\n",
              "      <td>M&amp;MFIN24MAY295PE</td>\n",
              "      <td>M&amp;MFIN</td>\n",
              "      <td>30MAY2024</td>\n",
              "      <td>29500.000000</td>\n",
              "      <td>2000</td>\n",
              "      <td>OPTSTK</td>\n",
              "      <td>BFO</td>\n",
              "      <td>5.000000</td>\n",
              "    </tr>\n",
              "  </tbody>\n",
              "</table>\n",
              "<p>114005 rows × 9 columns</p>\n",
              "</div>"
            ],
            "text/plain": [
              "          token                 symbol        name     expiry          strike  \\\n",
              "0         14415             PAGEIND-BL     PAGEIND                  -1.000000   \n",
              "1         23121           1090NFL26-NB   1090NFL26                  -1.000000   \n",
              "2         23099             738KL44-SG     738KL44                  -1.000000   \n",
              "3         15082           RADIOCITY-P1   RADIOCITY                  -1.000000   \n",
              "4         13896              77HP36-SG      77HP36                  -1.000000   \n",
              "...         ...                    ...         ...        ...             ...   \n",
              "114000  2039134     GLENMARK24JUL900CE    GLENMARK  25JUL2024    90000.000000   \n",
              "114001  2039060  ADANIPORTS24JUL1180CE  ADANIPORTS  25JUL2024   118000.000000   \n",
              "114002   862638          IOC24MAY168PE         IOC  30MAY2024    16800.000000   \n",
              "114003  1111058     BANKEX24JUL56400CE      BANKEX  29JUL2024  5640000.000000   \n",
              "114004   862487       M&MFIN24MAY295PE      M&MFIN  30MAY2024    29500.000000   \n",
              "\n",
              "       lotsize instrumenttype exch_seg tick_size  \n",
              "0            1                     NSE  5.000000  \n",
              "1            1                     NSE  1.000000  \n",
              "2          100                     NSE  1.000000  \n",
              "3            1                     NSE  5.000000  \n",
              "4          100                     NSE  1.000000  \n",
              "...        ...            ...      ...       ...  \n",
              "114000     725         OPTSTK      BFO  5.000000  \n",
              "114001     400         OPTSTK      BFO  5.000000  \n",
              "114002    4875         OPTSTK      BFO  5.000000  \n",
              "114003      15         OPTIDX      BFO  5.000000  \n",
              "114004    2000         OPTSTK      BFO  5.000000  \n",
              "\n",
              "[114005 rows x 9 columns]"
            ]
          },
          "execution_count": 80,
          "metadata": {},
          "output_type": "execute_result"
        }
      ],
      "source": [
        "token_1"
      ]
    },
    {
      "cell_type": "code",
      "execution_count": null,
      "id": "6f738313-f956-42a7-aab6-6b367a8d3eb4",
      "metadata": {
        "id": "6f738313-f956-42a7-aab6-6b367a8d3eb4"
      },
      "outputs": [],
      "source": [
        "token_1.to_csv(\"angel_token.csv\")"
      ]
    },
    {
      "cell_type": "code",
      "execution_count": null,
      "id": "7cf77e84-562b-48f8-919e-f448258926b0",
      "metadata": {
        "id": "7cf77e84-562b-48f8-919e-f448258926b0"
      },
      "outputs": [],
      "source": [
        "data = pd.read_csv(\"C:/Users/abc/angel_token.csv\",low_memory=False)"
      ]
    },
    {
      "cell_type": "code",
      "execution_count": null,
      "id": "d8820640-f409-4625-a785-56d7e6320b70",
      "metadata": {
        "id": "d8820640-f409-4625-a785-56d7e6320b70",
        "outputId": "95f1c00e-6d73-476d-be09-b94448f95c20"
      },
      "outputs": [
        {
          "data": {
            "text/html": [
              "<div>\n",
              "<style scoped>\n",
              "    .dataframe tbody tr th:only-of-type {\n",
              "        vertical-align: middle;\n",
              "    }\n",
              "\n",
              "    .dataframe tbody tr th {\n",
              "        vertical-align: top;\n",
              "    }\n",
              "\n",
              "    .dataframe thead th {\n",
              "        text-align: right;\n",
              "    }\n",
              "</style>\n",
              "<table border=\"1\" class=\"dataframe\">\n",
              "  <thead>\n",
              "    <tr style=\"text-align: right;\">\n",
              "      <th></th>\n",
              "      <th>Unnamed: 0</th>\n",
              "      <th>token</th>\n",
              "      <th>symbol</th>\n",
              "      <th>name</th>\n",
              "      <th>expiry</th>\n",
              "      <th>strike</th>\n",
              "      <th>lotsize</th>\n",
              "      <th>instrumenttype</th>\n",
              "      <th>exch_seg</th>\n",
              "      <th>tick_size</th>\n",
              "    </tr>\n",
              "  </thead>\n",
              "  <tbody>\n",
              "    <tr>\n",
              "      <th>0</th>\n",
              "      <td>0</td>\n",
              "      <td>14415</td>\n",
              "      <td>PAGEIND-BL</td>\n",
              "      <td>PAGEIND</td>\n",
              "      <td>NaN</td>\n",
              "      <td>-1.0</td>\n",
              "      <td>1</td>\n",
              "      <td>NaN</td>\n",
              "      <td>NSE</td>\n",
              "      <td>5.0</td>\n",
              "    </tr>\n",
              "    <tr>\n",
              "      <th>1</th>\n",
              "      <td>1</td>\n",
              "      <td>23121</td>\n",
              "      <td>1090NFL26-NB</td>\n",
              "      <td>1090NFL26</td>\n",
              "      <td>NaN</td>\n",
              "      <td>-1.0</td>\n",
              "      <td>1</td>\n",
              "      <td>NaN</td>\n",
              "      <td>NSE</td>\n",
              "      <td>1.0</td>\n",
              "    </tr>\n",
              "    <tr>\n",
              "      <th>2</th>\n",
              "      <td>2</td>\n",
              "      <td>23099</td>\n",
              "      <td>738KL44-SG</td>\n",
              "      <td>738KL44</td>\n",
              "      <td>NaN</td>\n",
              "      <td>-1.0</td>\n",
              "      <td>100</td>\n",
              "      <td>NaN</td>\n",
              "      <td>NSE</td>\n",
              "      <td>1.0</td>\n",
              "    </tr>\n",
              "    <tr>\n",
              "      <th>3</th>\n",
              "      <td>3</td>\n",
              "      <td>15082</td>\n",
              "      <td>RADIOCITY-P1</td>\n",
              "      <td>RADIOCITY</td>\n",
              "      <td>NaN</td>\n",
              "      <td>-1.0</td>\n",
              "      <td>1</td>\n",
              "      <td>NaN</td>\n",
              "      <td>NSE</td>\n",
              "      <td>5.0</td>\n",
              "    </tr>\n",
              "    <tr>\n",
              "      <th>4</th>\n",
              "      <td>4</td>\n",
              "      <td>13896</td>\n",
              "      <td>77HP36-SG</td>\n",
              "      <td>77HP36</td>\n",
              "      <td>NaN</td>\n",
              "      <td>-1.0</td>\n",
              "      <td>100</td>\n",
              "      <td>NaN</td>\n",
              "      <td>NSE</td>\n",
              "      <td>1.0</td>\n",
              "    </tr>\n",
              "    <tr>\n",
              "      <th>...</th>\n",
              "      <td>...</td>\n",
              "      <td>...</td>\n",
              "      <td>...</td>\n",
              "      <td>...</td>\n",
              "      <td>...</td>\n",
              "      <td>...</td>\n",
              "      <td>...</td>\n",
              "      <td>...</td>\n",
              "      <td>...</td>\n",
              "      <td>...</td>\n",
              "    </tr>\n",
              "    <tr>\n",
              "      <th>114000</th>\n",
              "      <td>114000</td>\n",
              "      <td>2039134</td>\n",
              "      <td>GLENMARK24JUL900CE</td>\n",
              "      <td>GLENMARK</td>\n",
              "      <td>25JUL2024</td>\n",
              "      <td>90000.0</td>\n",
              "      <td>725</td>\n",
              "      <td>OPTSTK</td>\n",
              "      <td>BFO</td>\n",
              "      <td>5.0</td>\n",
              "    </tr>\n",
              "    <tr>\n",
              "      <th>114001</th>\n",
              "      <td>114001</td>\n",
              "      <td>2039060</td>\n",
              "      <td>ADANIPORTS24JUL1180CE</td>\n",
              "      <td>ADANIPORTS</td>\n",
              "      <td>25JUL2024</td>\n",
              "      <td>118000.0</td>\n",
              "      <td>400</td>\n",
              "      <td>OPTSTK</td>\n",
              "      <td>BFO</td>\n",
              "      <td>5.0</td>\n",
              "    </tr>\n",
              "    <tr>\n",
              "      <th>114002</th>\n",
              "      <td>114002</td>\n",
              "      <td>862638</td>\n",
              "      <td>IOC24MAY168PE</td>\n",
              "      <td>IOC</td>\n",
              "      <td>30MAY2024</td>\n",
              "      <td>16800.0</td>\n",
              "      <td>4875</td>\n",
              "      <td>OPTSTK</td>\n",
              "      <td>BFO</td>\n",
              "      <td>5.0</td>\n",
              "    </tr>\n",
              "    <tr>\n",
              "      <th>114003</th>\n",
              "      <td>114003</td>\n",
              "      <td>1111058</td>\n",
              "      <td>BANKEX24JUL56400CE</td>\n",
              "      <td>BANKEX</td>\n",
              "      <td>29JUL2024</td>\n",
              "      <td>5640000.0</td>\n",
              "      <td>15</td>\n",
              "      <td>OPTIDX</td>\n",
              "      <td>BFO</td>\n",
              "      <td>5.0</td>\n",
              "    </tr>\n",
              "    <tr>\n",
              "      <th>114004</th>\n",
              "      <td>114004</td>\n",
              "      <td>862487</td>\n",
              "      <td>M&amp;MFIN24MAY295PE</td>\n",
              "      <td>M&amp;MFIN</td>\n",
              "      <td>30MAY2024</td>\n",
              "      <td>29500.0</td>\n",
              "      <td>2000</td>\n",
              "      <td>OPTSTK</td>\n",
              "      <td>BFO</td>\n",
              "      <td>5.0</td>\n",
              "    </tr>\n",
              "  </tbody>\n",
              "</table>\n",
              "<p>114005 rows × 10 columns</p>\n",
              "</div>"
            ],
            "text/plain": [
              "        Unnamed: 0    token                 symbol        name     expiry  \\\n",
              "0                0    14415             PAGEIND-BL     PAGEIND        NaN   \n",
              "1                1    23121           1090NFL26-NB   1090NFL26        NaN   \n",
              "2                2    23099             738KL44-SG     738KL44        NaN   \n",
              "3                3    15082           RADIOCITY-P1   RADIOCITY        NaN   \n",
              "4                4    13896              77HP36-SG      77HP36        NaN   \n",
              "...            ...      ...                    ...         ...        ...   \n",
              "114000      114000  2039134     GLENMARK24JUL900CE    GLENMARK  25JUL2024   \n",
              "114001      114001  2039060  ADANIPORTS24JUL1180CE  ADANIPORTS  25JUL2024   \n",
              "114002      114002   862638          IOC24MAY168PE         IOC  30MAY2024   \n",
              "114003      114003  1111058     BANKEX24JUL56400CE      BANKEX  29JUL2024   \n",
              "114004      114004   862487       M&MFIN24MAY295PE      M&MFIN  30MAY2024   \n",
              "\n",
              "           strike  lotsize instrumenttype exch_seg  tick_size  \n",
              "0            -1.0        1            NaN      NSE        5.0  \n",
              "1            -1.0        1            NaN      NSE        1.0  \n",
              "2            -1.0      100            NaN      NSE        1.0  \n",
              "3            -1.0        1            NaN      NSE        5.0  \n",
              "4            -1.0      100            NaN      NSE        1.0  \n",
              "...           ...      ...            ...      ...        ...  \n",
              "114000    90000.0      725         OPTSTK      BFO        5.0  \n",
              "114001   118000.0      400         OPTSTK      BFO        5.0  \n",
              "114002    16800.0     4875         OPTSTK      BFO        5.0  \n",
              "114003  5640000.0       15         OPTIDX      BFO        5.0  \n",
              "114004    29500.0     2000         OPTSTK      BFO        5.0  \n",
              "\n",
              "[114005 rows x 10 columns]"
            ]
          },
          "execution_count": 87,
          "metadata": {},
          "output_type": "execute_result"
        }
      ],
      "source": [
        "data"
      ]
    },
    {
      "cell_type": "code",
      "execution_count": null,
      "id": "8a2ba2b5-4a97-42be-8b18-2cb45cd6d628",
      "metadata": {
        "id": "8a2ba2b5-4a97-42be-8b18-2cb45cd6d628",
        "outputId": "4a3e5a21-1bf6-494a-85b8-c95f519daef1"
      },
      "outputs": [
        {
          "data": {
            "text/html": [
              "<div>\n",
              "<style scoped>\n",
              "    .dataframe tbody tr th:only-of-type {\n",
              "        vertical-align: middle;\n",
              "    }\n",
              "\n",
              "    .dataframe tbody tr th {\n",
              "        vertical-align: top;\n",
              "    }\n",
              "\n",
              "    .dataframe thead th {\n",
              "        text-align: right;\n",
              "    }\n",
              "</style>\n",
              "<table border=\"1\" class=\"dataframe\">\n",
              "  <thead>\n",
              "    <tr style=\"text-align: right;\">\n",
              "      <th></th>\n",
              "      <th>token</th>\n",
              "      <th>symbol</th>\n",
              "      <th>name</th>\n",
              "      <th>expiry</th>\n",
              "      <th>strike</th>\n",
              "      <th>lotsize</th>\n",
              "      <th>instrumenttype</th>\n",
              "      <th>exch_seg</th>\n",
              "      <th>tick_size</th>\n",
              "    </tr>\n",
              "  </thead>\n",
              "  <tbody>\n",
              "    <tr>\n",
              "      <th>0</th>\n",
              "      <td>14415</td>\n",
              "      <td>PAGEIND-BL</td>\n",
              "      <td>PAGEIND</td>\n",
              "      <td>NaN</td>\n",
              "      <td>-1.0</td>\n",
              "      <td>1</td>\n",
              "      <td>NaN</td>\n",
              "      <td>NSE</td>\n",
              "      <td>5.0</td>\n",
              "    </tr>\n",
              "    <tr>\n",
              "      <th>1</th>\n",
              "      <td>23121</td>\n",
              "      <td>1090NFL26-NB</td>\n",
              "      <td>1090NFL26</td>\n",
              "      <td>NaN</td>\n",
              "      <td>-1.0</td>\n",
              "      <td>1</td>\n",
              "      <td>NaN</td>\n",
              "      <td>NSE</td>\n",
              "      <td>1.0</td>\n",
              "    </tr>\n",
              "    <tr>\n",
              "      <th>2</th>\n",
              "      <td>23099</td>\n",
              "      <td>738KL44-SG</td>\n",
              "      <td>738KL44</td>\n",
              "      <td>NaN</td>\n",
              "      <td>-1.0</td>\n",
              "      <td>100</td>\n",
              "      <td>NaN</td>\n",
              "      <td>NSE</td>\n",
              "      <td>1.0</td>\n",
              "    </tr>\n",
              "    <tr>\n",
              "      <th>3</th>\n",
              "      <td>15082</td>\n",
              "      <td>RADIOCITY-P1</td>\n",
              "      <td>RADIOCITY</td>\n",
              "      <td>NaN</td>\n",
              "      <td>-1.0</td>\n",
              "      <td>1</td>\n",
              "      <td>NaN</td>\n",
              "      <td>NSE</td>\n",
              "      <td>5.0</td>\n",
              "    </tr>\n",
              "    <tr>\n",
              "      <th>4</th>\n",
              "      <td>13896</td>\n",
              "      <td>77HP36-SG</td>\n",
              "      <td>77HP36</td>\n",
              "      <td>NaN</td>\n",
              "      <td>-1.0</td>\n",
              "      <td>100</td>\n",
              "      <td>NaN</td>\n",
              "      <td>NSE</td>\n",
              "      <td>1.0</td>\n",
              "    </tr>\n",
              "    <tr>\n",
              "      <th>...</th>\n",
              "      <td>...</td>\n",
              "      <td>...</td>\n",
              "      <td>...</td>\n",
              "      <td>...</td>\n",
              "      <td>...</td>\n",
              "      <td>...</td>\n",
              "      <td>...</td>\n",
              "      <td>...</td>\n",
              "      <td>...</td>\n",
              "    </tr>\n",
              "    <tr>\n",
              "      <th>114000</th>\n",
              "      <td>2039134</td>\n",
              "      <td>GLENMARK24JUL900CE</td>\n",
              "      <td>GLENMARK</td>\n",
              "      <td>25JUL2024</td>\n",
              "      <td>90000.0</td>\n",
              "      <td>725</td>\n",
              "      <td>OPTSTK</td>\n",
              "      <td>BFO</td>\n",
              "      <td>5.0</td>\n",
              "    </tr>\n",
              "    <tr>\n",
              "      <th>114001</th>\n",
              "      <td>2039060</td>\n",
              "      <td>ADANIPORTS24JUL1180CE</td>\n",
              "      <td>ADANIPORTS</td>\n",
              "      <td>25JUL2024</td>\n",
              "      <td>118000.0</td>\n",
              "      <td>400</td>\n",
              "      <td>OPTSTK</td>\n",
              "      <td>BFO</td>\n",
              "      <td>5.0</td>\n",
              "    </tr>\n",
              "    <tr>\n",
              "      <th>114002</th>\n",
              "      <td>862638</td>\n",
              "      <td>IOC24MAY168PE</td>\n",
              "      <td>IOC</td>\n",
              "      <td>30MAY2024</td>\n",
              "      <td>16800.0</td>\n",
              "      <td>4875</td>\n",
              "      <td>OPTSTK</td>\n",
              "      <td>BFO</td>\n",
              "      <td>5.0</td>\n",
              "    </tr>\n",
              "    <tr>\n",
              "      <th>114003</th>\n",
              "      <td>1111058</td>\n",
              "      <td>BANKEX24JUL56400CE</td>\n",
              "      <td>BANKEX</td>\n",
              "      <td>29JUL2024</td>\n",
              "      <td>5640000.0</td>\n",
              "      <td>15</td>\n",
              "      <td>OPTIDX</td>\n",
              "      <td>BFO</td>\n",
              "      <td>5.0</td>\n",
              "    </tr>\n",
              "    <tr>\n",
              "      <th>114004</th>\n",
              "      <td>862487</td>\n",
              "      <td>M&amp;MFIN24MAY295PE</td>\n",
              "      <td>M&amp;MFIN</td>\n",
              "      <td>30MAY2024</td>\n",
              "      <td>29500.0</td>\n",
              "      <td>2000</td>\n",
              "      <td>OPTSTK</td>\n",
              "      <td>BFO</td>\n",
              "      <td>5.0</td>\n",
              "    </tr>\n",
              "  </tbody>\n",
              "</table>\n",
              "<p>114005 rows × 9 columns</p>\n",
              "</div>"
            ],
            "text/plain": [
              "          token                 symbol        name     expiry     strike  \\\n",
              "0         14415             PAGEIND-BL     PAGEIND        NaN       -1.0   \n",
              "1         23121           1090NFL26-NB   1090NFL26        NaN       -1.0   \n",
              "2         23099             738KL44-SG     738KL44        NaN       -1.0   \n",
              "3         15082           RADIOCITY-P1   RADIOCITY        NaN       -1.0   \n",
              "4         13896              77HP36-SG      77HP36        NaN       -1.0   \n",
              "...         ...                    ...         ...        ...        ...   \n",
              "114000  2039134     GLENMARK24JUL900CE    GLENMARK  25JUL2024    90000.0   \n",
              "114001  2039060  ADANIPORTS24JUL1180CE  ADANIPORTS  25JUL2024   118000.0   \n",
              "114002   862638          IOC24MAY168PE         IOC  30MAY2024    16800.0   \n",
              "114003  1111058     BANKEX24JUL56400CE      BANKEX  29JUL2024  5640000.0   \n",
              "114004   862487       M&MFIN24MAY295PE      M&MFIN  30MAY2024    29500.0   \n",
              "\n",
              "        lotsize instrumenttype exch_seg  tick_size  \n",
              "0             1            NaN      NSE        5.0  \n",
              "1             1            NaN      NSE        1.0  \n",
              "2           100            NaN      NSE        1.0  \n",
              "3             1            NaN      NSE        5.0  \n",
              "4           100            NaN      NSE        1.0  \n",
              "...         ...            ...      ...        ...  \n",
              "114000      725         OPTSTK      BFO        5.0  \n",
              "114001      400         OPTSTK      BFO        5.0  \n",
              "114002     4875         OPTSTK      BFO        5.0  \n",
              "114003       15         OPTIDX      BFO        5.0  \n",
              "114004     2000         OPTSTK      BFO        5.0  \n",
              "\n",
              "[114005 rows x 9 columns]"
            ]
          },
          "execution_count": 93,
          "metadata": {},
          "output_type": "execute_result"
        }
      ],
      "source": [
        "data.drop(columns=['Unnamed: 0'],inplace =True)\n",
        "data"
      ]
    },
    {
      "cell_type": "code",
      "execution_count": null,
      "id": "2c41998e-6ccc-4cd6-b8c5-d5808c206d79",
      "metadata": {
        "id": "2c41998e-6ccc-4cd6-b8c5-d5808c206d79",
        "outputId": "db7eb62b-a20a-458a-daaf-e8b6177bd80d"
      },
      "outputs": [
        {
          "data": {
            "text/plain": [
              "Index(['Unnamed: 0', 'token', 'symbol', 'name', 'expiry', 'strike', 'lotsize',\n",
              "       'instrumenttype', 'exch_seg', 'tick_size'],\n",
              "      dtype='object')"
            ]
          },
          "execution_count": 92,
          "metadata": {},
          "output_type": "execute_result"
        }
      ],
      "source": [
        "data.columns"
      ]
    },
    {
      "cell_type": "code",
      "execution_count": null,
      "id": "33bb7d71-64be-4521-978b-6fc7e80aed51",
      "metadata": {
        "id": "33bb7d71-64be-4521-978b-6fc7e80aed51",
        "outputId": "ac68a940-cf84-4a2c-e036-72389aef7337"
      },
      "outputs": [
        {
          "data": {
            "text/html": [
              "<div>\n",
              "<style scoped>\n",
              "    .dataframe tbody tr th:only-of-type {\n",
              "        vertical-align: middle;\n",
              "    }\n",
              "\n",
              "    .dataframe tbody tr th {\n",
              "        vertical-align: top;\n",
              "    }\n",
              "\n",
              "    .dataframe thead th {\n",
              "        text-align: right;\n",
              "    }\n",
              "</style>\n",
              "<table border=\"1\" class=\"dataframe\">\n",
              "  <thead>\n",
              "    <tr style=\"text-align: right;\">\n",
              "      <th></th>\n",
              "      <th>token</th>\n",
              "      <th>symbol</th>\n",
              "      <th>name</th>\n",
              "      <th>expiry</th>\n",
              "      <th>strike</th>\n",
              "      <th>lotsize</th>\n",
              "      <th>instrumenttype</th>\n",
              "      <th>exch_seg</th>\n",
              "      <th>tick_size</th>\n",
              "    </tr>\n",
              "  </thead>\n",
              "  <tbody>\n",
              "    <tr>\n",
              "      <th>0</th>\n",
              "      <td>14415</td>\n",
              "      <td>PAGEIND-BL</td>\n",
              "      <td>PAGEIND</td>\n",
              "      <td>NaN</td>\n",
              "      <td>-1.0</td>\n",
              "      <td>1</td>\n",
              "      <td>NaN</td>\n",
              "      <td>NSE</td>\n",
              "      <td>5.0</td>\n",
              "    </tr>\n",
              "    <tr>\n",
              "      <th>1</th>\n",
              "      <td>23121</td>\n",
              "      <td>1090NFL26-NB</td>\n",
              "      <td>1090NFL26</td>\n",
              "      <td>NaN</td>\n",
              "      <td>-1.0</td>\n",
              "      <td>1</td>\n",
              "      <td>NaN</td>\n",
              "      <td>NSE</td>\n",
              "      <td>1.0</td>\n",
              "    </tr>\n",
              "    <tr>\n",
              "      <th>2</th>\n",
              "      <td>23099</td>\n",
              "      <td>738KL44-SG</td>\n",
              "      <td>738KL44</td>\n",
              "      <td>NaN</td>\n",
              "      <td>-1.0</td>\n",
              "      <td>100</td>\n",
              "      <td>NaN</td>\n",
              "      <td>NSE</td>\n",
              "      <td>1.0</td>\n",
              "    </tr>\n",
              "    <tr>\n",
              "      <th>3</th>\n",
              "      <td>15082</td>\n",
              "      <td>RADIOCITY-P1</td>\n",
              "      <td>RADIOCITY</td>\n",
              "      <td>NaN</td>\n",
              "      <td>-1.0</td>\n",
              "      <td>1</td>\n",
              "      <td>NaN</td>\n",
              "      <td>NSE</td>\n",
              "      <td>5.0</td>\n",
              "    </tr>\n",
              "    <tr>\n",
              "      <th>4</th>\n",
              "      <td>13896</td>\n",
              "      <td>77HP36-SG</td>\n",
              "      <td>77HP36</td>\n",
              "      <td>NaN</td>\n",
              "      <td>-1.0</td>\n",
              "      <td>100</td>\n",
              "      <td>NaN</td>\n",
              "      <td>NSE</td>\n",
              "      <td>1.0</td>\n",
              "    </tr>\n",
              "  </tbody>\n",
              "</table>\n",
              "</div>"
            ],
            "text/plain": [
              "   token        symbol       name expiry  strike  lotsize instrumenttype  \\\n",
              "0  14415    PAGEIND-BL    PAGEIND    NaN    -1.0        1            NaN   \n",
              "1  23121  1090NFL26-NB  1090NFL26    NaN    -1.0        1            NaN   \n",
              "2  23099    738KL44-SG    738KL44    NaN    -1.0      100            NaN   \n",
              "3  15082  RADIOCITY-P1  RADIOCITY    NaN    -1.0        1            NaN   \n",
              "4  13896     77HP36-SG     77HP36    NaN    -1.0      100            NaN   \n",
              "\n",
              "  exch_seg  tick_size  \n",
              "0      NSE        5.0  \n",
              "1      NSE        1.0  \n",
              "2      NSE        1.0  \n",
              "3      NSE        5.0  \n",
              "4      NSE        1.0  "
            ]
          },
          "execution_count": 94,
          "metadata": {},
          "output_type": "execute_result"
        }
      ],
      "source": [
        "data.head()"
      ]
    },
    {
      "cell_type": "code",
      "execution_count": null,
      "id": "ee5f3146-6c17-4846-9702-63b39d6a154e",
      "metadata": {
        "id": "ee5f3146-6c17-4846-9702-63b39d6a154e",
        "outputId": "d03f0c31-f682-4f58-abdd-759c5226bd9b"
      },
      "outputs": [
        {
          "data": {
            "text/html": [
              "<div>\n",
              "<style scoped>\n",
              "    .dataframe tbody tr th:only-of-type {\n",
              "        vertical-align: middle;\n",
              "    }\n",
              "\n",
              "    .dataframe tbody tr th {\n",
              "        vertical-align: top;\n",
              "    }\n",
              "\n",
              "    .dataframe thead th {\n",
              "        text-align: right;\n",
              "    }\n",
              "</style>\n",
              "<table border=\"1\" class=\"dataframe\">\n",
              "  <thead>\n",
              "    <tr style=\"text-align: right;\">\n",
              "      <th></th>\n",
              "      <th>token</th>\n",
              "      <th>symbol</th>\n",
              "      <th>name</th>\n",
              "      <th>expiry</th>\n",
              "      <th>strike</th>\n",
              "      <th>lotsize</th>\n",
              "      <th>instrumenttype</th>\n",
              "      <th>exch_seg</th>\n",
              "      <th>tick_size</th>\n",
              "    </tr>\n",
              "  </thead>\n",
              "  <tbody>\n",
              "    <tr>\n",
              "      <th>114000</th>\n",
              "      <td>2039134</td>\n",
              "      <td>GLENMARK24JUL900CE</td>\n",
              "      <td>GLENMARK</td>\n",
              "      <td>25JUL2024</td>\n",
              "      <td>90000.0</td>\n",
              "      <td>725</td>\n",
              "      <td>OPTSTK</td>\n",
              "      <td>BFO</td>\n",
              "      <td>5.0</td>\n",
              "    </tr>\n",
              "    <tr>\n",
              "      <th>114001</th>\n",
              "      <td>2039060</td>\n",
              "      <td>ADANIPORTS24JUL1180CE</td>\n",
              "      <td>ADANIPORTS</td>\n",
              "      <td>25JUL2024</td>\n",
              "      <td>118000.0</td>\n",
              "      <td>400</td>\n",
              "      <td>OPTSTK</td>\n",
              "      <td>BFO</td>\n",
              "      <td>5.0</td>\n",
              "    </tr>\n",
              "    <tr>\n",
              "      <th>114002</th>\n",
              "      <td>862638</td>\n",
              "      <td>IOC24MAY168PE</td>\n",
              "      <td>IOC</td>\n",
              "      <td>30MAY2024</td>\n",
              "      <td>16800.0</td>\n",
              "      <td>4875</td>\n",
              "      <td>OPTSTK</td>\n",
              "      <td>BFO</td>\n",
              "      <td>5.0</td>\n",
              "    </tr>\n",
              "    <tr>\n",
              "      <th>114003</th>\n",
              "      <td>1111058</td>\n",
              "      <td>BANKEX24JUL56400CE</td>\n",
              "      <td>BANKEX</td>\n",
              "      <td>29JUL2024</td>\n",
              "      <td>5640000.0</td>\n",
              "      <td>15</td>\n",
              "      <td>OPTIDX</td>\n",
              "      <td>BFO</td>\n",
              "      <td>5.0</td>\n",
              "    </tr>\n",
              "    <tr>\n",
              "      <th>114004</th>\n",
              "      <td>862487</td>\n",
              "      <td>M&amp;MFIN24MAY295PE</td>\n",
              "      <td>M&amp;MFIN</td>\n",
              "      <td>30MAY2024</td>\n",
              "      <td>29500.0</td>\n",
              "      <td>2000</td>\n",
              "      <td>OPTSTK</td>\n",
              "      <td>BFO</td>\n",
              "      <td>5.0</td>\n",
              "    </tr>\n",
              "  </tbody>\n",
              "</table>\n",
              "</div>"
            ],
            "text/plain": [
              "          token                 symbol        name     expiry     strike  \\\n",
              "114000  2039134     GLENMARK24JUL900CE    GLENMARK  25JUL2024    90000.0   \n",
              "114001  2039060  ADANIPORTS24JUL1180CE  ADANIPORTS  25JUL2024   118000.0   \n",
              "114002   862638          IOC24MAY168PE         IOC  30MAY2024    16800.0   \n",
              "114003  1111058     BANKEX24JUL56400CE      BANKEX  29JUL2024  5640000.0   \n",
              "114004   862487       M&MFIN24MAY295PE      M&MFIN  30MAY2024    29500.0   \n",
              "\n",
              "        lotsize instrumenttype exch_seg  tick_size  \n",
              "114000      725         OPTSTK      BFO        5.0  \n",
              "114001      400         OPTSTK      BFO        5.0  \n",
              "114002     4875         OPTSTK      BFO        5.0  \n",
              "114003       15         OPTIDX      BFO        5.0  \n",
              "114004     2000         OPTSTK      BFO        5.0  "
            ]
          },
          "execution_count": 95,
          "metadata": {},
          "output_type": "execute_result"
        }
      ],
      "source": [
        "data.tail()"
      ]
    },
    {
      "cell_type": "code",
      "execution_count": null,
      "id": "9d30f6c3-4880-434e-a1c4-4c65b3dcc6e0",
      "metadata": {
        "id": "9d30f6c3-4880-434e-a1c4-4c65b3dcc6e0",
        "outputId": "159dd452-83ea-495e-d5a5-b701c95f593f"
      },
      "outputs": [
        {
          "data": {
            "text/plain": [
              "0         NSE\n",
              "1         NSE\n",
              "2         NSE\n",
              "3         NSE\n",
              "4         NSE\n",
              "         ... \n",
              "114000    BFO\n",
              "114001    BFO\n",
              "114002    BFO\n",
              "114003    BFO\n",
              "114004    BFO\n",
              "Name: exch_seg, Length: 114005, dtype: object"
            ]
          },
          "execution_count": 96,
          "metadata": {},
          "output_type": "execute_result"
        }
      ],
      "source": [
        "data[\"exch_seg\"]"
      ]
    },
    {
      "cell_type": "code",
      "execution_count": null,
      "id": "cdefb464-2383-48ec-b796-6a5481d2c343",
      "metadata": {
        "id": "cdefb464-2383-48ec-b796-6a5481d2c343"
      },
      "outputs": [],
      "source": [
        "option_token = data[data[\"instrumenttype\"]==\"OPTIDX\"]"
      ]
    },
    {
      "cell_type": "code",
      "execution_count": null,
      "id": "ead7b1ce-6639-44f6-85d8-f06fd38795fd",
      "metadata": {
        "id": "ead7b1ce-6639-44f6-85d8-f06fd38795fd",
        "outputId": "3bb5d872-2a40-40a0-ba35-2ede1408bbf5"
      },
      "outputs": [
        {
          "data": {
            "text/html": [
              "<div>\n",
              "<style scoped>\n",
              "    .dataframe tbody tr th:only-of-type {\n",
              "        vertical-align: middle;\n",
              "    }\n",
              "\n",
              "    .dataframe tbody tr th {\n",
              "        vertical-align: top;\n",
              "    }\n",
              "\n",
              "    .dataframe thead th {\n",
              "        text-align: right;\n",
              "    }\n",
              "</style>\n",
              "<table border=\"1\" class=\"dataframe\">\n",
              "  <thead>\n",
              "    <tr style=\"text-align: right;\">\n",
              "      <th></th>\n",
              "      <th>token</th>\n",
              "      <th>symbol</th>\n",
              "      <th>name</th>\n",
              "      <th>expiry</th>\n",
              "      <th>strike</th>\n",
              "      <th>lotsize</th>\n",
              "      <th>instrumenttype</th>\n",
              "      <th>exch_seg</th>\n",
              "      <th>tick_size</th>\n",
              "    </tr>\n",
              "  </thead>\n",
              "  <tbody>\n",
              "    <tr>\n",
              "      <th>20262</th>\n",
              "      <td>46756</td>\n",
              "      <td>MIDCPNIFTY17MAY2410250CE</td>\n",
              "      <td>MIDCPNIFTY</td>\n",
              "      <td>17MAY2024</td>\n",
              "      <td>1025000.0</td>\n",
              "      <td>75</td>\n",
              "      <td>OPTIDX</td>\n",
              "      <td>NFO</td>\n",
              "      <td>5.0</td>\n",
              "    </tr>\n",
              "    <tr>\n",
              "      <th>20263</th>\n",
              "      <td>56592</td>\n",
              "      <td>BANKNIFTY29MAY2445900CE</td>\n",
              "      <td>BANKNIFTY</td>\n",
              "      <td>29MAY2024</td>\n",
              "      <td>4590000.0</td>\n",
              "      <td>15</td>\n",
              "      <td>OPTIDX</td>\n",
              "      <td>NFO</td>\n",
              "      <td>5.0</td>\n",
              "    </tr>\n",
              "    <tr>\n",
              "      <th>20271</th>\n",
              "      <td>46694</td>\n",
              "      <td>MIDCPNIFTY24JUN2411025PE</td>\n",
              "      <td>MIDCPNIFTY</td>\n",
              "      <td>24JUN2024</td>\n",
              "      <td>1102500.0</td>\n",
              "      <td>75</td>\n",
              "      <td>OPTIDX</td>\n",
              "      <td>NFO</td>\n",
              "      <td>5.0</td>\n",
              "    </tr>\n",
              "    <tr>\n",
              "      <th>20272</th>\n",
              "      <td>65879</td>\n",
              "      <td>NIFTY26SEP2421000CE</td>\n",
              "      <td>NIFTY</td>\n",
              "      <td>26SEP2024</td>\n",
              "      <td>2100000.0</td>\n",
              "      <td>25</td>\n",
              "      <td>OPTIDX</td>\n",
              "      <td>NFO</td>\n",
              "      <td>5.0</td>\n",
              "    </tr>\n",
              "    <tr>\n",
              "      <th>20277</th>\n",
              "      <td>54700</td>\n",
              "      <td>MIDCPNIFTY03JUN2411025PE</td>\n",
              "      <td>MIDCPNIFTY</td>\n",
              "      <td>03JUN2024</td>\n",
              "      <td>1102500.0</td>\n",
              "      <td>75</td>\n",
              "      <td>OPTIDX</td>\n",
              "      <td>NFO</td>\n",
              "      <td>5.0</td>\n",
              "    </tr>\n",
              "    <tr>\n",
              "      <th>...</th>\n",
              "      <td>...</td>\n",
              "      <td>...</td>\n",
              "      <td>...</td>\n",
              "      <td>...</td>\n",
              "      <td>...</td>\n",
              "      <td>...</td>\n",
              "      <td>...</td>\n",
              "      <td>...</td>\n",
              "      <td>...</td>\n",
              "    </tr>\n",
              "    <tr>\n",
              "      <th>113949</th>\n",
              "      <td>886568</td>\n",
              "      <td>SENSEX28JUN76000CE</td>\n",
              "      <td>SENSEX</td>\n",
              "      <td>30JUN2028</td>\n",
              "      <td>7600000.0</td>\n",
              "      <td>10</td>\n",
              "      <td>OPTIDX</td>\n",
              "      <td>BFO</td>\n",
              "      <td>5.0</td>\n",
              "    </tr>\n",
              "    <tr>\n",
              "      <th>113950</th>\n",
              "      <td>1111991</td>\n",
              "      <td>SENSEX24JUL77000CE</td>\n",
              "      <td>SENSEX</td>\n",
              "      <td>26JUL2024</td>\n",
              "      <td>7700000.0</td>\n",
              "      <td>10</td>\n",
              "      <td>OPTIDX</td>\n",
              "      <td>BFO</td>\n",
              "      <td>5.0</td>\n",
              "    </tr>\n",
              "    <tr>\n",
              "      <th>113976</th>\n",
              "      <td>1111863</td>\n",
              "      <td>BANKEX2461453600CE</td>\n",
              "      <td>BANKEX</td>\n",
              "      <td>14JUN2024</td>\n",
              "      <td>5360000.0</td>\n",
              "      <td>15</td>\n",
              "      <td>OPTIDX</td>\n",
              "      <td>BFO</td>\n",
              "      <td>5.0</td>\n",
              "    </tr>\n",
              "    <tr>\n",
              "      <th>113992</th>\n",
              "      <td>1111615</td>\n",
              "      <td>SENSEX2460777400PE</td>\n",
              "      <td>SENSEX</td>\n",
              "      <td>07JUN2024</td>\n",
              "      <td>7740000.0</td>\n",
              "      <td>10</td>\n",
              "      <td>OPTIDX</td>\n",
              "      <td>BFO</td>\n",
              "      <td>5.0</td>\n",
              "    </tr>\n",
              "    <tr>\n",
              "      <th>114003</th>\n",
              "      <td>1111058</td>\n",
              "      <td>BANKEX24JUL56400CE</td>\n",
              "      <td>BANKEX</td>\n",
              "      <td>29JUL2024</td>\n",
              "      <td>5640000.0</td>\n",
              "      <td>15</td>\n",
              "      <td>OPTIDX</td>\n",
              "      <td>BFO</td>\n",
              "      <td>5.0</td>\n",
              "    </tr>\n",
              "  </tbody>\n",
              "</table>\n",
              "<p>10465 rows × 9 columns</p>\n",
              "</div>"
            ],
            "text/plain": [
              "          token                    symbol        name     expiry     strike  \\\n",
              "20262     46756  MIDCPNIFTY17MAY2410250CE  MIDCPNIFTY  17MAY2024  1025000.0   \n",
              "20263     56592   BANKNIFTY29MAY2445900CE   BANKNIFTY  29MAY2024  4590000.0   \n",
              "20271     46694  MIDCPNIFTY24JUN2411025PE  MIDCPNIFTY  24JUN2024  1102500.0   \n",
              "20272     65879       NIFTY26SEP2421000CE       NIFTY  26SEP2024  2100000.0   \n",
              "20277     54700  MIDCPNIFTY03JUN2411025PE  MIDCPNIFTY  03JUN2024  1102500.0   \n",
              "...         ...                       ...         ...        ...        ...   \n",
              "113949   886568        SENSEX28JUN76000CE      SENSEX  30JUN2028  7600000.0   \n",
              "113950  1111991        SENSEX24JUL77000CE      SENSEX  26JUL2024  7700000.0   \n",
              "113976  1111863        BANKEX2461453600CE      BANKEX  14JUN2024  5360000.0   \n",
              "113992  1111615        SENSEX2460777400PE      SENSEX  07JUN2024  7740000.0   \n",
              "114003  1111058        BANKEX24JUL56400CE      BANKEX  29JUL2024  5640000.0   \n",
              "\n",
              "        lotsize instrumenttype exch_seg  tick_size  \n",
              "20262        75         OPTIDX      NFO        5.0  \n",
              "20263        15         OPTIDX      NFO        5.0  \n",
              "20271        75         OPTIDX      NFO        5.0  \n",
              "20272        25         OPTIDX      NFO        5.0  \n",
              "20277        75         OPTIDX      NFO        5.0  \n",
              "...         ...            ...      ...        ...  \n",
              "113949       10         OPTIDX      BFO        5.0  \n",
              "113950       10         OPTIDX      BFO        5.0  \n",
              "113976       15         OPTIDX      BFO        5.0  \n",
              "113992       10         OPTIDX      BFO        5.0  \n",
              "114003       15         OPTIDX      BFO        5.0  \n",
              "\n",
              "[10465 rows x 9 columns]"
            ]
          },
          "execution_count": 99,
          "metadata": {},
          "output_type": "execute_result"
        }
      ],
      "source": [
        "option_token"
      ]
    },
    {
      "cell_type": "code",
      "execution_count": null,
      "id": "28314842-f047-43ae-8010-e59ccf6d06a8",
      "metadata": {
        "id": "28314842-f047-43ae-8010-e59ccf6d06a8"
      },
      "outputs": [],
      "source": []
    }
  ],
  "metadata": {
    "kernelspec": {
      "display_name": "Python 3 (ipykernel)",
      "language": "python",
      "name": "python3"
    },
    "language_info": {
      "codemirror_mode": {
        "name": "ipython",
        "version": 3
      },
      "file_extension": ".py",
      "mimetype": "text/x-python",
      "name": "python",
      "nbconvert_exporter": "python",
      "pygments_lexer": "ipython3",
      "version": "3.12.3"
    },
    "colab": {
      "provenance": [],
      "include_colab_link": true
    }
  },
  "nbformat": 4,
  "nbformat_minor": 5
}