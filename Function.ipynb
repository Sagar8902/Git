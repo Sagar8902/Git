{
  "cells": [
    {
      "cell_type": "markdown",
      "metadata": {
        "id": "view-in-github",
        "colab_type": "text"
      },
      "source": [
        "<a href=\"https://colab.research.google.com/github/Sagar8902/Git/blob/master/Function.ipynb\" target=\"_parent\"><img src=\"https://colab.research.google.com/assets/colab-badge.svg\" alt=\"Open In Colab\"/></a>"
      ]
    },
    {
      "cell_type": "markdown",
      "id": "c5234ba3-8734-4abf-8122-6a02f94c093f",
      "metadata": {
        "id": "c5234ba3-8734-4abf-8122-6a02f94c093f"
      },
      "source": [
        "# Function\n",
        "- Reusability\n",
        "- Organized code\n"
      ]
    },
    {
      "cell_type": "code",
      "execution_count": null,
      "id": "14269e16-ae1d-4461-a812-1f7bcf63c9c7",
      "metadata": {
        "id": "14269e16-ae1d-4461-a812-1f7bcf63c9c7"
      },
      "outputs": [],
      "source": [
        " def even_num(num):\n",
        "    for i in range(1,num+1):\n",
        "        if(i%2 == 0):\n",
        "            print(i)\n",
        "        else:\n",
        "            pass"
      ]
    },
    {
      "cell_type": "code",
      "execution_count": null,
      "id": "ca077ec3-41f1-453b-a6d5-2905c176c581",
      "metadata": {
        "id": "ca077ec3-41f1-453b-a6d5-2905c176c581",
        "outputId": "ec829b47-3988-42ac-b04b-5ddc469bc46e"
      },
      "outputs": [
        {
          "name": "stdout",
          "output_type": "stream",
          "text": [
            "2\n",
            "4\n",
            "6\n",
            "8\n",
            "10\n",
            "12\n",
            "14\n",
            "16\n",
            "18\n",
            "20\n",
            "22\n",
            "24\n"
          ]
        }
      ],
      "source": [
        "even_num(25)"
      ]
    },
    {
      "cell_type": "code",
      "execution_count": null,
      "id": "2d72fd16-49bd-4070-b576-c6eafd2350b0",
      "metadata": {
        "id": "2d72fd16-49bd-4070-b576-c6eafd2350b0"
      },
      "outputs": [],
      "source": []
    }
  ],
  "metadata": {
    "kernelspec": {
      "display_name": "Python 3 (ipykernel)",
      "language": "python",
      "name": "python3"
    },
    "language_info": {
      "codemirror_mode": {
        "name": "ipython",
        "version": 3
      },
      "file_extension": ".py",
      "mimetype": "text/x-python",
      "name": "python",
      "nbconvert_exporter": "python",
      "pygments_lexer": "ipython3",
      "version": "3.12.3"
    },
    "colab": {
      "provenance": [],
      "include_colab_link": true
    }
  },
  "nbformat": 4,
  "nbformat_minor": 5
}