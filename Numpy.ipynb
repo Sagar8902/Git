{
  "cells": [
    {
      "cell_type": "markdown",
      "metadata": {
        "id": "view-in-github",
        "colab_type": "text"
      },
      "source": [
        "<a href=\"https://colab.research.google.com/github/Sagar8902/Git/blob/master/Numpy.ipynb\" target=\"_parent\"><img src=\"https://colab.research.google.com/assets/colab-badge.svg\" alt=\"Open In Colab\"/></a>"
      ]
    },
    {
      "cell_type": "code",
      "execution_count": null,
      "id": "192c4dc3-be5a-4ad8-abe3-1d6c53009240",
      "metadata": {
        "id": "192c4dc3-be5a-4ad8-abe3-1d6c53009240"
      },
      "outputs": [],
      "source": [
        "# importing numpy"
      ]
    },
    {
      "cell_type": "code",
      "execution_count": null,
      "id": "49022da2-680a-49cc-ab4e-d62a9fb6814b",
      "metadata": {
        "id": "49022da2-680a-49cc-ab4e-d62a9fb6814b",
        "outputId": "fe21bbe0-0308-4493-fc00-f4e7d23a6359"
      },
      "outputs": [
        {
          "name": "stdout",
          "output_type": "stream",
          "text": [
            "Requirement already satisfied: numpy in c:\\users\\abc\\appdata\\local\\programs\\python\\python312\\lib\\site-packages (1.26.4)\n"
          ]
        }
      ],
      "source": [
        "!pip install numpy"
      ]
    },
    {
      "cell_type": "code",
      "execution_count": null,
      "id": "26f3d694-ca24-49e7-940e-553aaf74dc8d",
      "metadata": {
        "id": "26f3d694-ca24-49e7-940e-553aaf74dc8d"
      },
      "outputs": [],
      "source": [
        "import numpy as np"
      ]
    },
    {
      "cell_type": "markdown",
      "id": "13542134-43a3-4dd4-9963-c8f9697bcaac",
      "metadata": {
        "id": "13542134-43a3-4dd4-9963-c8f9697bcaac"
      },
      "source": [
        "## Numpy"
      ]
    },
    {
      "cell_type": "code",
      "execution_count": null,
      "id": "dba0de7d-3d48-4bbe-acbf-c79b6847c995",
      "metadata": {
        "id": "dba0de7d-3d48-4bbe-acbf-c79b6847c995",
        "outputId": "413462a7-0404-482c-bed4-43b0205dfc9c"
      },
      "outputs": [
        {
          "name": "stdout",
          "output_type": "stream",
          "text": [
            "[1, 2, 3, 4, 5, 6, 7, 8, 9, 10, 11, 12, 13, 14, 15, 16, 17, 18, 19, 20]\n"
          ]
        }
      ],
      "source": [
        "list = [i for i in range(1,21)]\n",
        "print(list)"
      ]
    },
    {
      "cell_type": "code",
      "execution_count": null,
      "id": "882064b4-f14d-4fa7-bce9-156e7801c25e",
      "metadata": {
        "id": "882064b4-f14d-4fa7-bce9-156e7801c25e",
        "outputId": "2eabfd88-d87b-44ec-fdc7-f0cc66bac22e"
      },
      "outputs": [
        {
          "name": "stdout",
          "output_type": "stream",
          "text": [
            "<class 'list'>\n"
          ]
        }
      ],
      "source": [
        "print(type(list))"
      ]
    },
    {
      "cell_type": "code",
      "execution_count": null,
      "id": "407f4f9b-fd63-4ec7-853a-e610ebbf4cd8",
      "metadata": {
        "id": "407f4f9b-fd63-4ec7-853a-e610ebbf4cd8",
        "outputId": "1301618a-c52a-4974-972a-3f87c6fe1278"
      },
      "outputs": [
        {
          "name": "stdout",
          "output_type": "stream",
          "text": [
            "221 ns ± 9.18 ns per loop (mean ± std. dev. of 7 runs, 1,000,000 loops each)\n"
          ]
        }
      ],
      "source": [
        "%timeit (list**2 for i in list)"
      ]
    },
    {
      "cell_type": "code",
      "execution_count": null,
      "id": "c9f944bd-d3bc-4bd5-8846-0e74d60904c5",
      "metadata": {
        "id": "c9f944bd-d3bc-4bd5-8846-0e74d60904c5"
      },
      "outputs": [],
      "source": [
        "arr = np.array(list)"
      ]
    },
    {
      "cell_type": "code",
      "execution_count": null,
      "id": "aaa7e109-eb9a-4ce6-93d3-03e13da2a8e4",
      "metadata": {
        "id": "aaa7e109-eb9a-4ce6-93d3-03e13da2a8e4",
        "outputId": "54b39491-350e-4ead-be6e-32520b7590c3"
      },
      "outputs": [
        {
          "name": "stdout",
          "output_type": "stream",
          "text": [
            "580 ns ± 3.8 ns per loop (mean ± std. dev. of 7 runs, 1,000,000 loops each)\n"
          ]
        }
      ],
      "source": [
        "%timeit arr**2"
      ]
    },
    {
      "cell_type": "markdown",
      "id": "1bb5d167-8e61-49ce-a537-0fedae1187be",
      "metadata": {
        "id": "1bb5d167-8e61-49ce-a537-0fedae1187be"
      },
      "source": [
        "## Numpy\n",
        "- np.array\n",
        "- np.arange"
      ]
    },
    {
      "cell_type": "code",
      "execution_count": null,
      "id": "42ef588c-c1b0-437a-b0c0-080b33e4263f",
      "metadata": {
        "id": "42ef588c-c1b0-437a-b0c0-080b33e4263f"
      },
      "outputs": [],
      "source": [
        "list1 = [1,5,65,1,5,7,98,25,65,32,45,36]\n",
        "np_array = np.array(list1)"
      ]
    },
    {
      "cell_type": "code",
      "execution_count": null,
      "id": "429e3dc3-a819-45ab-b6fa-0d0e86cbd600",
      "metadata": {
        "id": "429e3dc3-a819-45ab-b6fa-0d0e86cbd600",
        "outputId": "2440c823-83cc-431c-92a4-49c609563a85"
      },
      "outputs": [
        {
          "data": {
            "text/plain": [
              "numpy.ndarray"
            ]
          },
          "execution_count": 14,
          "metadata": {},
          "output_type": "execute_result"
        }
      ],
      "source": [
        "type(np_array)"
      ]
    },
    {
      "cell_type": "code",
      "execution_count": null,
      "id": "d436edb8-f451-47c6-b3bb-393667928b7a",
      "metadata": {
        "id": "d436edb8-f451-47c6-b3bb-393667928b7a",
        "outputId": "64f520a0-125b-434f-fdf3-9176f74c46b8"
      },
      "outputs": [
        {
          "data": {
            "text/plain": [
              "1"
            ]
          },
          "execution_count": 16,
          "metadata": {},
          "output_type": "execute_result"
        }
      ],
      "source": [
        "np_array.ndim"
      ]
    },
    {
      "cell_type": "code",
      "execution_count": null,
      "id": "1490e81b-533f-4e66-bbbe-3056c42f6664",
      "metadata": {
        "id": "1490e81b-533f-4e66-bbbe-3056c42f6664",
        "outputId": "5f723934-105c-4b0a-9c6b-db64bef1f4d5"
      },
      "outputs": [
        {
          "data": {
            "text/plain": [
              "(12,)"
            ]
          },
          "execution_count": 18,
          "metadata": {},
          "output_type": "execute_result"
        }
      ],
      "source": [
        "np_array.shape"
      ]
    },
    {
      "cell_type": "code",
      "execution_count": null,
      "id": "c76e661c-8fad-456a-9f1a-4570617ff1c3",
      "metadata": {
        "id": "c76e661c-8fad-456a-9f1a-4570617ff1c3"
      },
      "outputs": [],
      "source": [
        "np_array2 = np.arange(5,12)"
      ]
    },
    {
      "cell_type": "code",
      "execution_count": null,
      "id": "a9cec3ea-d387-419b-8083-9774bc4a9c11",
      "metadata": {
        "id": "a9cec3ea-d387-419b-8083-9774bc4a9c11",
        "outputId": "04b216df-b74a-4bee-de0c-97eb7fb26ad5"
      },
      "outputs": [
        {
          "data": {
            "text/plain": [
              "array([ 5,  6,  7,  8,  9, 10, 11])"
            ]
          },
          "execution_count": 20,
          "metadata": {},
          "output_type": "execute_result"
        }
      ],
      "source": [
        "np_array2"
      ]
    },
    {
      "cell_type": "code",
      "execution_count": null,
      "id": "afbac0c7-d9a0-4c4f-bc0c-5e73ead72d1d",
      "metadata": {
        "id": "afbac0c7-d9a0-4c4f-bc0c-5e73ead72d1d"
      },
      "outputs": [],
      "source": [
        "np_array3 = np.arange(5,12,2)"
      ]
    },
    {
      "cell_type": "code",
      "execution_count": null,
      "id": "231697ed-05d6-4ba9-9daa-561fa9ba75fb",
      "metadata": {
        "id": "231697ed-05d6-4ba9-9daa-561fa9ba75fb",
        "outputId": "06bcf082-e274-41a6-f0ea-66a60584c6c1"
      },
      "outputs": [
        {
          "data": {
            "text/plain": [
              "numpy.ndarray"
            ]
          },
          "execution_count": 22,
          "metadata": {},
          "output_type": "execute_result"
        }
      ],
      "source": [
        "type(np_array2)"
      ]
    },
    {
      "cell_type": "markdown",
      "id": "c8ece777-fa0e-49de-9c7c-dac9ffb742b5",
      "metadata": {
        "id": "c8ece777-fa0e-49de-9c7c-dac9ffb742b5"
      },
      "source": [
        "### Multi-Dimentional Array"
      ]
    },
    {
      "cell_type": "code",
      "execution_count": null,
      "id": "229d332b-1602-42ce-a8ef-a7ce524262ad",
      "metadata": {
        "id": "229d332b-1602-42ce-a8ef-a7ce524262ad"
      },
      "outputs": [],
      "source": [
        "list_2D = [[1,2,3],\n",
        "          [4,5,6],\n",
        "          [7,8,9]]"
      ]
    },
    {
      "cell_type": "code",
      "execution_count": null,
      "id": "582186a1-d6b0-4c49-bc52-b5a14fb9e4c5",
      "metadata": {
        "id": "582186a1-d6b0-4c49-bc52-b5a14fb9e4c5",
        "outputId": "e1d944e7-3ba2-493f-a216-e7ee2325dd4a"
      },
      "outputs": [
        {
          "data": {
            "text/plain": [
              "[1, 2, 3]"
            ]
          },
          "execution_count": 25,
          "metadata": {},
          "output_type": "execute_result"
        }
      ],
      "source": [
        "list_2D[0]"
      ]
    },
    {
      "cell_type": "code",
      "execution_count": null,
      "id": "cc424557-c0e6-4e47-8279-e751d068b689",
      "metadata": {
        "id": "cc424557-c0e6-4e47-8279-e751d068b689",
        "outputId": "8a925756-01d8-4bb7-81fc-c70224e616d6"
      },
      "outputs": [
        {
          "data": {
            "text/plain": [
              "[4, 5, 6]"
            ]
          },
          "execution_count": 26,
          "metadata": {},
          "output_type": "execute_result"
        }
      ],
      "source": [
        "list_2D[1]"
      ]
    },
    {
      "cell_type": "code",
      "execution_count": null,
      "id": "35aeac0b-afc8-407d-b4b0-a937e287e38e",
      "metadata": {
        "id": "35aeac0b-afc8-407d-b4b0-a937e287e38e",
        "outputId": "23fc1166-0f52-4622-e5d7-e1b565e02e6a"
      },
      "outputs": [
        {
          "data": {
            "text/plain": [
              "[7, 8, 9]"
            ]
          },
          "execution_count": 27,
          "metadata": {},
          "output_type": "execute_result"
        }
      ],
      "source": [
        "list_2D[2]"
      ]
    },
    {
      "cell_type": "code",
      "execution_count": null,
      "id": "f3dbb0bf-707f-465b-966a-484f13f99402",
      "metadata": {
        "id": "f3dbb0bf-707f-465b-966a-484f13f99402",
        "outputId": "06884522-e1ec-4659-91d6-341cfca2b9ec"
      },
      "outputs": [
        {
          "data": {
            "text/plain": [
              "5"
            ]
          },
          "execution_count": 30,
          "metadata": {},
          "output_type": "execute_result"
        }
      ],
      "source": [
        "#access 5\n",
        "\n",
        "list_2D[1][1]"
      ]
    },
    {
      "cell_type": "code",
      "execution_count": null,
      "id": "72220119-26f5-4e9b-b724-911408a6fda0",
      "metadata": {
        "id": "72220119-26f5-4e9b-b724-911408a6fda0",
        "outputId": "c63b5803-63a6-45d4-f78e-48a40111ecb4"
      },
      "outputs": [
        {
          "data": {
            "text/plain": [
              "7"
            ]
          },
          "execution_count": 31,
          "metadata": {},
          "output_type": "execute_result"
        }
      ],
      "source": [
        "# Access 7\n",
        "\n",
        "list_2D[2][0]"
      ]
    },
    {
      "cell_type": "code",
      "execution_count": null,
      "id": "665c2e12-b5e0-43b9-818d-6a88d963792a",
      "metadata": {
        "id": "665c2e12-b5e0-43b9-818d-6a88d963792a"
      },
      "outputs": [],
      "source": [
        "nd_array_2D = np.array(list_2D)"
      ]
    },
    {
      "cell_type": "code",
      "execution_count": null,
      "id": "c74f7996-b22e-481d-a5e1-9aaef00ad70a",
      "metadata": {
        "id": "c74f7996-b22e-481d-a5e1-9aaef00ad70a",
        "outputId": "898f8c19-32e8-448d-ac2c-ef2d653e6728"
      },
      "outputs": [
        {
          "data": {
            "text/plain": [
              "numpy.ndarray"
            ]
          },
          "execution_count": 36,
          "metadata": {},
          "output_type": "execute_result"
        }
      ],
      "source": [
        "type(nd_array_2D)"
      ]
    },
    {
      "cell_type": "code",
      "execution_count": null,
      "id": "8e07e8f3-3ce5-4922-98fd-82e2e45074fa",
      "metadata": {
        "id": "8e07e8f3-3ce5-4922-98fd-82e2e45074fa",
        "outputId": "316ec3e9-2430-48cd-98b0-bb531351c632"
      },
      "outputs": [
        {
          "data": {
            "text/plain": [
              "(3, 3)"
            ]
          },
          "execution_count": 37,
          "metadata": {},
          "output_type": "execute_result"
        }
      ],
      "source": [
        "nd_array_2D.shape"
      ]
    },
    {
      "cell_type": "code",
      "execution_count": null,
      "id": "184e2ac0-81e3-4b10-a805-a350eb3903d8",
      "metadata": {
        "id": "184e2ac0-81e3-4b10-a805-a350eb3903d8",
        "outputId": "f0caffd9-760c-48cb-fe9d-9514c1294287"
      },
      "outputs": [
        {
          "data": {
            "text/plain": [
              "2"
            ]
          },
          "execution_count": 38,
          "metadata": {},
          "output_type": "execute_result"
        }
      ],
      "source": [
        "nd_array_2D.ndim"
      ]
    },
    {
      "cell_type": "code",
      "execution_count": null,
      "id": "f4bc3d3a-3cfb-42db-8c32-271f80d0d4ac",
      "metadata": {
        "id": "f4bc3d3a-3cfb-42db-8c32-271f80d0d4ac",
        "outputId": "58a423a9-d97c-435e-b46b-40a41c36283d"
      },
      "outputs": [
        {
          "name": "stdout",
          "output_type": "stream",
          "text": [
            "230 ns ± 13.4 ns per loop (mean ± std. dev. of 7 runs, 1,000,000 loops each)\n"
          ]
        }
      ],
      "source": [
        "%timeit (nd_array_2D**2 for i in nd_array_2D)"
      ]
    },
    {
      "cell_type": "code",
      "execution_count": null,
      "id": "e041feff-dbd2-48b7-8dae-8f5170873282",
      "metadata": {
        "id": "e041feff-dbd2-48b7-8dae-8f5170873282",
        "outputId": "35159902-a0e4-40b6-cee3-8a35d228e30b"
      },
      "outputs": [
        {
          "name": "stdout",
          "output_type": "stream",
          "text": [
            "217 ns ± 10.9 ns per loop (mean ± std. dev. of 7 runs, 1,000,000 loops each)\n"
          ]
        }
      ],
      "source": [
        "%timeit (list_2D**2 for i in list_2D)"
      ]
    },
    {
      "cell_type": "code",
      "execution_count": null,
      "id": "a625b12d-7f79-4d78-bd0a-9c4dced83285",
      "metadata": {
        "id": "a625b12d-7f79-4d78-bd0a-9c4dced83285",
        "outputId": "65b94f5d-bf3e-4cb4-b92c-e08ac694f028"
      },
      "outputs": [
        {
          "data": {
            "text/plain": [
              "67"
            ]
          },
          "execution_count": 48,
          "metadata": {},
          "output_type": "execute_result"
        }
      ],
      "source": [
        "n1 = np.random.randint(1,99)\n",
        "n1"
      ]
    },
    {
      "cell_type": "code",
      "execution_count": null,
      "id": "bd59fea1-97ef-4ef4-a11d-f5ad0cacda4b",
      "metadata": {
        "id": "bd59fea1-97ef-4ef4-a11d-f5ad0cacda4b",
        "outputId": "caa12c14-5015-46c0-95b0-3de374cec1fc"
      },
      "outputs": [
        {
          "data": {
            "text/plain": [
              "int"
            ]
          },
          "execution_count": 49,
          "metadata": {},
          "output_type": "execute_result"
        }
      ],
      "source": [
        "type(n1)"
      ]
    },
    {
      "cell_type": "code",
      "execution_count": null,
      "id": "b1b27f45-a84e-4e5b-9590-a6d92e8a7f5b",
      "metadata": {
        "id": "b1b27f45-a84e-4e5b-9590-a6d92e8a7f5b",
        "outputId": "a5a041bb-a19d-4f8f-aea8-980a04deb288"
      },
      "outputs": [
        {
          "data": {
            "text/plain": [
              "array([[436,  39, 754, 709, 998, 394],\n",
              "       [ 75, 500, 528, 118, 857, 955],\n",
              "       [135, 195, 426, 820, 180,  78],\n",
              "       [326, 201, 158, 265,  54, 666],\n",
              "       [575, 943, 406,  81, 908, 811]])"
            ]
          },
          "execution_count": 52,
          "metadata": {},
          "output_type": "execute_result"
        }
      ],
      "source": [
        "n2= np.random.randint(1,999,(5,6))\n",
        "n2"
      ]
    },
    {
      "cell_type": "code",
      "execution_count": null,
      "id": "61f0f8d6-30ac-4dc6-81ba-3f0900263c50",
      "metadata": {
        "id": "61f0f8d6-30ac-4dc6-81ba-3f0900263c50",
        "outputId": "90bfcc4a-dcba-46e5-9a2f-da7a202a47a4"
      },
      "outputs": [
        {
          "data": {
            "text/plain": [
              "numpy.ndarray"
            ]
          },
          "execution_count": 53,
          "metadata": {},
          "output_type": "execute_result"
        }
      ],
      "source": [
        "type(n2)"
      ]
    },
    {
      "cell_type": "code",
      "execution_count": null,
      "id": "36991795-8a07-4f2a-90bf-017dbd71fdef",
      "metadata": {
        "id": "36991795-8a07-4f2a-90bf-017dbd71fdef",
        "outputId": "6bf47f1a-0b56-4f00-c6d3-15b2d2708098"
      },
      "outputs": [
        {
          "data": {
            "text/plain": [
              "820"
            ]
          },
          "execution_count": 54,
          "metadata": {},
          "output_type": "execute_result"
        }
      ],
      "source": [
        "# Access 820\n",
        "n2[2][3]"
      ]
    },
    {
      "cell_type": "code",
      "execution_count": null,
      "id": "f0f2e2f0-5021-4191-aec3-c09de5310ba4",
      "metadata": {
        "id": "f0f2e2f0-5021-4191-aec3-c09de5310ba4",
        "outputId": "01138faa-a1b1-49a9-a896-5b61d2a6e904"
      },
      "outputs": [
        {
          "data": {
            "text/plain": [
              "81"
            ]
          },
          "execution_count": 56,
          "metadata": {},
          "output_type": "execute_result"
        }
      ],
      "source": [
        "# Access 81\n",
        "n2[4][3]"
      ]
    },
    {
      "cell_type": "markdown",
      "id": "59bce4d5-8c52-4422-903f-af1cfc9f5177",
      "metadata": {
        "id": "59bce4d5-8c52-4422-903f-af1cfc9f5177"
      },
      "source": [
        "### Array Slicing"
      ]
    },
    {
      "cell_type": "code",
      "execution_count": null,
      "id": "498bdf9d-8ef1-43b7-ba98-6372cbc28b71",
      "metadata": {
        "id": "498bdf9d-8ef1-43b7-ba98-6372cbc28b71",
        "outputId": "fee1085a-fe8b-4817-dc9a-9e0b05bd60a5"
      },
      "outputs": [
        {
          "data": {
            "text/plain": [
              "array([[436,  39, 754, 709, 998, 394],\n",
              "       [ 75, 500, 528, 118, 857, 955],\n",
              "       [135, 195, 426, 820, 180,  78],\n",
              "       [326, 201, 158, 265,  54, 666],\n",
              "       [575, 943, 406,  81, 908, 811]])"
            ]
          },
          "execution_count": 57,
          "metadata": {},
          "output_type": "execute_result"
        }
      ],
      "source": [
        "n2"
      ]
    },
    {
      "cell_type": "code",
      "execution_count": null,
      "id": "6f92d708-0dcb-4117-a312-b8a5eee09c07",
      "metadata": {
        "id": "6f92d708-0dcb-4117-a312-b8a5eee09c07",
        "outputId": "36a7b480-9147-479e-93bf-993f8d800d13"
      },
      "outputs": [
        {
          "data": {
            "text/plain": [
              "array([436,  39, 754, 709, 998, 394])"
            ]
          },
          "execution_count": 58,
          "metadata": {},
          "output_type": "execute_result"
        }
      ],
      "source": [
        "n2[0]"
      ]
    },
    {
      "cell_type": "code",
      "execution_count": null,
      "id": "2ad0767f-c9a8-4fce-b5a7-ff8859375420",
      "metadata": {
        "id": "2ad0767f-c9a8-4fce-b5a7-ff8859375420",
        "outputId": "35759e3b-9476-428e-84bd-7003defe85d7"
      },
      "outputs": [
        {
          "data": {
            "text/plain": [
              "array([326, 201, 158, 265,  54, 666])"
            ]
          },
          "execution_count": 59,
          "metadata": {},
          "output_type": "execute_result"
        }
      ],
      "source": [
        "n2[3]"
      ]
    },
    {
      "cell_type": "code",
      "execution_count": null,
      "id": "45c83268-a327-41e1-91cd-e92940695c46",
      "metadata": {
        "id": "45c83268-a327-41e1-91cd-e92940695c46",
        "outputId": "8425508d-b4d1-409d-c519-8f5fe3df2464"
      },
      "outputs": [
        {
          "data": {
            "text/plain": [
              "array([436,  75, 135, 326, 575])"
            ]
          },
          "execution_count": 60,
          "metadata": {},
          "output_type": "execute_result"
        }
      ],
      "source": [
        "n2[:,0]"
      ]
    },
    {
      "cell_type": "code",
      "execution_count": null,
      "id": "ec0a70ae-93d0-4438-bb13-9a2899e03835",
      "metadata": {
        "id": "ec0a70ae-93d0-4438-bb13-9a2899e03835",
        "outputId": "83bca32e-8fbd-4b25-e8be-92c0c5019099"
      },
      "outputs": [
        {
          "data": {
            "text/plain": [
              "array([394, 955,  78, 666, 811])"
            ]
          },
          "execution_count": 61,
          "metadata": {},
          "output_type": "execute_result"
        }
      ],
      "source": [
        "n2[:,5]"
      ]
    },
    {
      "cell_type": "code",
      "execution_count": null,
      "id": "9d55d979-8fc0-4d46-9e17-8896f527f576",
      "metadata": {
        "id": "9d55d979-8fc0-4d46-9e17-8896f527f576",
        "outputId": "b37a2d5f-a361-4cda-89d1-84badaabc17c"
      },
      "outputs": [
        {
          "data": {
            "text/plain": [
              "54"
            ]
          },
          "execution_count": 62,
          "metadata": {},
          "output_type": "execute_result"
        }
      ],
      "source": [
        "#Access 54\n",
        "\n",
        "n2[3,4]"
      ]
    },
    {
      "cell_type": "code",
      "execution_count": null,
      "id": "5489a48d-e745-46eb-a54b-0dd733b08bdb",
      "metadata": {
        "id": "5489a48d-e745-46eb-a54b-0dd733b08bdb",
        "outputId": "8d833cac-7359-4485-b230-b6162b9b091d"
      },
      "outputs": [
        {
          "data": {
            "text/plain": [
              "811"
            ]
          },
          "execution_count": 64,
          "metadata": {},
          "output_type": "execute_result"
        }
      ],
      "source": [
        "#Access 811\n",
        "\n",
        "n2[4,-1]\n",
        "n2[-1,-1]"
      ]
    },
    {
      "cell_type": "markdown",
      "id": "11f4468c-051d-45f5-a341-fbc86d9d8030",
      "metadata": {
        "id": "11f4468c-051d-45f5-a341-fbc86d9d8030"
      },
      "source": [
        "### Masking"
      ]
    },
    {
      "cell_type": "code",
      "execution_count": null,
      "id": "f87c74fc-7723-4582-903e-20537b98f2ca",
      "metadata": {
        "id": "f87c74fc-7723-4582-903e-20537b98f2ca"
      },
      "outputs": [],
      "source": [
        "a1 = np.random.randint(1,50,8)"
      ]
    },
    {
      "cell_type": "code",
      "execution_count": null,
      "id": "011f43aa-555e-46f5-9cbc-4687daa635b0",
      "metadata": {
        "id": "011f43aa-555e-46f5-9cbc-4687daa635b0",
        "outputId": "b61259c6-2351-4fb8-cb29-7ecaefea6ff7"
      },
      "outputs": [
        {
          "data": {
            "text/plain": [
              "array([36, 33, 28, 39, 46, 31, 29, 10])"
            ]
          },
          "execution_count": 73,
          "metadata": {},
          "output_type": "execute_result"
        }
      ],
      "source": [
        "a1"
      ]
    },
    {
      "cell_type": "code",
      "execution_count": null,
      "id": "8e73734d-39ee-4146-80b0-eebe85f5798a",
      "metadata": {
        "id": "8e73734d-39ee-4146-80b0-eebe85f5798a",
        "outputId": "3e25bbf5-f778-4cbd-aa4e-6fb19625319b"
      },
      "outputs": [
        {
          "data": {
            "text/plain": [
              "numpy.ndarray"
            ]
          },
          "execution_count": 74,
          "metadata": {},
          "output_type": "execute_result"
        }
      ],
      "source": [
        "type(a1)"
      ]
    },
    {
      "cell_type": "code",
      "execution_count": null,
      "id": "2a425c94-8c94-468e-9596-138e4f6d32a5",
      "metadata": {
        "id": "2a425c94-8c94-468e-9596-138e4f6d32a5"
      },
      "outputs": [],
      "source": [
        "mask = (a1 > 30)"
      ]
    },
    {
      "cell_type": "code",
      "execution_count": null,
      "id": "9f640600-f3a0-490a-bd46-a9471ceb9d14",
      "metadata": {
        "id": "9f640600-f3a0-490a-bd46-a9471ceb9d14",
        "outputId": "d3ff085a-9f9a-49ec-eda3-5eea58ee4907"
      },
      "outputs": [
        {
          "name": "stdout",
          "output_type": "stream",
          "text": [
            "[ True  True False  True  True  True False False]\n"
          ]
        },
        {
          "data": {
            "text/plain": [
              "array([36, 33, 39, 46, 31])"
            ]
          },
          "execution_count": 79,
          "metadata": {},
          "output_type": "execute_result"
        }
      ],
      "source": [
        "print(mask)\n",
        "a1[mask]"
      ]
    },
    {
      "cell_type": "code",
      "execution_count": null,
      "id": "467be83a-cd58-43e2-bc0c-4eee251ba0c3",
      "metadata": {
        "id": "467be83a-cd58-43e2-bc0c-4eee251ba0c3",
        "outputId": "19fdc84b-9c49-419c-f055-05ea5c705455"
      },
      "outputs": [
        {
          "data": {
            "text/plain": [
              "array([36, 39, 46])"
            ]
          },
          "execution_count": 86,
          "metadata": {},
          "output_type": "execute_result"
        }
      ],
      "source": [
        "a1[a1 > 35] # number ina array > 35"
      ]
    },
    {
      "cell_type": "code",
      "execution_count": null,
      "id": "bb1133c5-c2e6-4cf6-8856-1794e177bd5f",
      "metadata": {
        "id": "bb1133c5-c2e6-4cf6-8856-1794e177bd5f",
        "outputId": "5d5c1f2f-d16f-46c6-c67d-faaf18e4a940"
      },
      "outputs": [
        {
          "data": {
            "text/plain": [
              "array([36, 33, 28, 39, 46, 31, 29, 10])"
            ]
          },
          "execution_count": 81,
          "metadata": {},
          "output_type": "execute_result"
        }
      ],
      "source": [
        "a1"
      ]
    },
    {
      "cell_type": "code",
      "execution_count": null,
      "id": "2973fad2-77b4-4b5b-b638-ad5cd5787565",
      "metadata": {
        "id": "2973fad2-77b4-4b5b-b638-ad5cd5787565"
      },
      "outputs": [],
      "source": [
        "a2 = np.random.randint(1,99,(4,6))"
      ]
    },
    {
      "cell_type": "code",
      "execution_count": null,
      "id": "772552c6-4adf-4e8f-aa07-d6c2df216ab4",
      "metadata": {
        "id": "772552c6-4adf-4e8f-aa07-d6c2df216ab4",
        "outputId": "1e53d524-ac78-4d5c-84df-036a45789c14"
      },
      "outputs": [
        {
          "data": {
            "text/plain": [
              "array([[28, 13, 56, 51, 24, 64],\n",
              "       [22, 17, 96,  1, 65, 41],\n",
              "       [18, 13, 32, 79, 64, 22],\n",
              "       [ 4, 12, 25, 35, 53,  5]])"
            ]
          },
          "execution_count": 83,
          "metadata": {},
          "output_type": "execute_result"
        }
      ],
      "source": [
        "a2"
      ]
    },
    {
      "cell_type": "code",
      "execution_count": null,
      "id": "52ee87c1-5e53-4998-ac1b-bd2a02f247da",
      "metadata": {
        "id": "52ee87c1-5e53-4998-ac1b-bd2a02f247da",
        "outputId": "3830e4d6-dc35-41ee-8be5-11522e130d45"
      },
      "outputs": [
        {
          "data": {
            "text/plain": [
              "array([56, 51, 64, 96, 65, 79, 64, 53])"
            ]
          },
          "execution_count": 85,
          "metadata": {},
          "output_type": "execute_result"
        }
      ],
      "source": [
        "a2[a2 > 50] # numbers in array > 50"
      ]
    },
    {
      "cell_type": "code",
      "execution_count": null,
      "id": "b95dec95-8b4a-4d38-85fa-5a9995fa3ac5",
      "metadata": {
        "id": "b95dec95-8b4a-4d38-85fa-5a9995fa3ac5"
      },
      "outputs": [],
      "source": [
        "# > 70 in 3rd row\n",
        "\n",
        "A1  = a2[2,:] > 70"
      ]
    },
    {
      "cell_type": "code",
      "execution_count": null,
      "id": "f32bdf4f-b841-4476-8d66-86002a1440bc",
      "metadata": {
        "id": "f32bdf4f-b841-4476-8d66-86002a1440bc",
        "outputId": "61cb4f80-7276-4fc7-ed3f-55938ae5ca75"
      },
      "outputs": [
        {
          "data": {
            "text/plain": [
              "array([79])"
            ]
          },
          "execution_count": 103,
          "metadata": {},
          "output_type": "execute_result"
        }
      ],
      "source": [
        "a2[2,:][A1]"
      ]
    },
    {
      "cell_type": "code",
      "execution_count": null,
      "id": "a7025557-f71b-438a-8926-71e54f7ffa23",
      "metadata": {
        "id": "a7025557-f71b-438a-8926-71e54f7ffa23"
      },
      "outputs": [],
      "source": [
        "# > 50 in 2nd row\n",
        "\n",
        "A2 = a2[:,1] > 15"
      ]
    },
    {
      "cell_type": "code",
      "execution_count": null,
      "id": "e00ab011-d270-4df3-886d-13f5257f5645",
      "metadata": {
        "id": "e00ab011-d270-4df3-886d-13f5257f5645",
        "outputId": "8187dca6-6f46-4144-c3c2-a2c4e204e466"
      },
      "outputs": [
        {
          "data": {
            "text/plain": [
              "array([17])"
            ]
          },
          "execution_count": 110,
          "metadata": {},
          "output_type": "execute_result"
        }
      ],
      "source": [
        "a2[:,1][A2]"
      ]
    },
    {
      "cell_type": "markdown",
      "id": "90790964-011c-4bae-b0da-b6540c2764d4",
      "metadata": {
        "id": "90790964-011c-4bae-b0da-b6540c2764d4"
      },
      "source": [
        "### Operations on Numpy"
      ]
    },
    {
      "cell_type": "code",
      "execution_count": null,
      "id": "b497983b-21d3-40b3-8c2f-e9d2c101d8a0",
      "metadata": {
        "id": "b497983b-21d3-40b3-8c2f-e9d2c101d8a0"
      },
      "outputs": [],
      "source": [
        "L1 = np.random.randint(1,25,8)\n",
        "L2 = np.random.randint(1,25,8)"
      ]
    },
    {
      "cell_type": "code",
      "execution_count": null,
      "id": "cf75dee9-9ccc-4c97-b4bc-95c76a750a67",
      "metadata": {
        "id": "cf75dee9-9ccc-4c97-b4bc-95c76a750a67",
        "outputId": "72513d9f-d41a-43ab-e60c-ab7db4abea91"
      },
      "outputs": [
        {
          "data": {
            "text/plain": [
              "array([22, 10, 21,  9, 13,  4,  8, 16])"
            ]
          },
          "execution_count": 123,
          "metadata": {},
          "output_type": "execute_result"
        }
      ],
      "source": [
        "L1"
      ]
    },
    {
      "cell_type": "code",
      "execution_count": null,
      "id": "9017c0d0-1c08-4eb4-aec3-f743f634926f",
      "metadata": {
        "id": "9017c0d0-1c08-4eb4-aec3-f743f634926f",
        "outputId": "067600fc-eda3-45a9-ad21-9383c1b80bb1"
      },
      "outputs": [
        {
          "data": {
            "text/plain": [
              "array([ 5, 15, 12, 12, 10, 10,  4, 12])"
            ]
          },
          "execution_count": 124,
          "metadata": {},
          "output_type": "execute_result"
        }
      ],
      "source": [
        "L2"
      ]
    },
    {
      "cell_type": "code",
      "execution_count": null,
      "id": "bc01fbfe-7046-4714-aff9-b945b563e425",
      "metadata": {
        "id": "bc01fbfe-7046-4714-aff9-b945b563e425",
        "outputId": "64660d7f-9ae7-4e1f-c5a3-90156cc663f8"
      },
      "outputs": [
        {
          "data": {
            "text/plain": [
              "array([27, 25, 33, 21, 23, 14, 12, 28])"
            ]
          },
          "execution_count": 125,
          "metadata": {},
          "output_type": "execute_result"
        }
      ],
      "source": [
        "L1 + L2"
      ]
    },
    {
      "cell_type": "code",
      "execution_count": null,
      "id": "16d5679e-621b-4a32-9968-892ff1d1f112",
      "metadata": {
        "id": "16d5679e-621b-4a32-9968-892ff1d1f112",
        "outputId": "8b566158-26fc-4fed-8d5d-75511cb85049"
      },
      "outputs": [
        {
          "data": {
            "text/plain": [
              "array([17, -5,  9, -3,  3, -6,  4,  4])"
            ]
          },
          "execution_count": 126,
          "metadata": {},
          "output_type": "execute_result"
        }
      ],
      "source": [
        "L1 - L2"
      ]
    },
    {
      "cell_type": "code",
      "execution_count": null,
      "id": "e14bb808-e17c-411e-991b-d16d78a4a2a2",
      "metadata": {
        "id": "e14bb808-e17c-411e-991b-d16d78a4a2a2",
        "outputId": "c2edb75e-6843-4ddb-9dd0-3252b2aae97e"
      },
      "outputs": [
        {
          "data": {
            "text/plain": [
              "array([110, 150, 252, 108, 130,  40,  32, 192])"
            ]
          },
          "execution_count": 127,
          "metadata": {},
          "output_type": "execute_result"
        }
      ],
      "source": [
        "L1 * L2"
      ]
    },
    {
      "cell_type": "code",
      "execution_count": null,
      "id": "579e56aa-5d6e-48e7-94ec-ee81cac1e6ca",
      "metadata": {
        "id": "579e56aa-5d6e-48e7-94ec-ee81cac1e6ca",
        "outputId": "579b7e71-e1a7-4d2c-95e9-4e80ea8c1000"
      },
      "outputs": [
        {
          "data": {
            "text/plain": [
              "array([4.4       , 0.66666667, 1.75      , 0.75      , 1.3       ,\n",
              "       0.4       , 2.        , 1.33333333])"
            ]
          },
          "execution_count": 128,
          "metadata": {},
          "output_type": "execute_result"
        }
      ],
      "source": [
        "L1 / L2"
      ]
    },
    {
      "cell_type": "code",
      "execution_count": null,
      "id": "f95e0333-23a2-444d-8f3a-bc38402462c8",
      "metadata": {
        "id": "f95e0333-23a2-444d-8f3a-bc38402462c8",
        "outputId": "2152fce4-2e37-43ee-c3b1-6ad3f614fe58"
      },
      "outputs": [
        {
          "data": {
            "text/plain": [
              "array([    5153632, -1530494976,   232284689, -1038305055,   419538377,\n",
              "           1048576,        4096,           0])"
            ]
          },
          "execution_count": 129,
          "metadata": {},
          "output_type": "execute_result"
        }
      ],
      "source": [
        "L1 ** L2"
      ]
    },
    {
      "cell_type": "code",
      "execution_count": null,
      "id": "2f69c677-dbb0-4a8a-9733-a9e3ecd630be",
      "metadata": {
        "id": "2f69c677-dbb0-4a8a-9733-a9e3ecd630be",
        "outputId": "9b0770a2-d64e-4295-e45d-ce302c728618"
      },
      "outputs": [
        {
          "data": {
            "text/plain": [
              "array([4, 0, 1, 0, 1, 0, 2, 1])"
            ]
          },
          "execution_count": 130,
          "metadata": {},
          "output_type": "execute_result"
        }
      ],
      "source": [
        "L1 // L2"
      ]
    },
    {
      "cell_type": "code",
      "execution_count": null,
      "id": "ad554bab-d18a-443e-b800-2cb619bdb950",
      "metadata": {
        "id": "ad554bab-d18a-443e-b800-2cb619bdb950",
        "outputId": "f8e6a661-4728-4b59-dfbf-111e717747a4"
      },
      "outputs": [
        {
          "data": {
            "text/plain": [
              "1014"
            ]
          },
          "execution_count": 131,
          "metadata": {},
          "output_type": "execute_result"
        }
      ],
      "source": [
        "L1.dot(L2)"
      ]
    },
    {
      "cell_type": "code",
      "execution_count": null,
      "id": "45538b67-6ba8-409d-aaba-9fbf6ced1a6c",
      "metadata": {
        "id": "45538b67-6ba8-409d-aaba-9fbf6ced1a6c",
        "outputId": "ccfa02bb-9390-4d68-b966-6cf050aa8591"
      },
      "outputs": [
        {
          "data": {
            "text/plain": [
              "103"
            ]
          },
          "execution_count": 132,
          "metadata": {},
          "output_type": "execute_result"
        }
      ],
      "source": [
        "L1.sum()"
      ]
    },
    {
      "cell_type": "code",
      "execution_count": null,
      "id": "4588b495-c71d-415d-9f0d-444723261c5d",
      "metadata": {
        "id": "4588b495-c71d-415d-9f0d-444723261c5d",
        "outputId": "dadf3717-e43d-4783-849f-cffaad0e5639"
      },
      "outputs": [
        {
          "data": {
            "text/plain": [
              "80"
            ]
          },
          "execution_count": 133,
          "metadata": {},
          "output_type": "execute_result"
        }
      ],
      "source": [
        "L2.sum()"
      ]
    },
    {
      "cell_type": "code",
      "execution_count": null,
      "id": "51a6bd35-c244-42ca-8b85-67247496f9b8",
      "metadata": {
        "id": "51a6bd35-c244-42ca-8b85-67247496f9b8",
        "outputId": "770b2f36-50ff-4c85-c70c-c2504f31b304"
      },
      "outputs": [
        {
          "data": {
            "text/plain": [
              "276756480"
            ]
          },
          "execution_count": 134,
          "metadata": {},
          "output_type": "execute_result"
        }
      ],
      "source": [
        "L1.prod()"
      ]
    },
    {
      "cell_type": "code",
      "execution_count": null,
      "id": "06e8501b-501a-4822-b118-d9669b165bc8",
      "metadata": {
        "id": "06e8501b-501a-4822-b118-d9669b165bc8",
        "outputId": "c1f25bd6-449e-4c53-f575-309b586c2dbc"
      },
      "outputs": [
        {
          "data": {
            "text/plain": [
              "12.875"
            ]
          },
          "execution_count": 135,
          "metadata": {},
          "output_type": "execute_result"
        }
      ],
      "source": [
        "L1.mean()"
      ]
    },
    {
      "cell_type": "code",
      "execution_count": null,
      "id": "efea9f2e-3d31-40b2-97e5-f4dcd0f9f15d",
      "metadata": {
        "id": "efea9f2e-3d31-40b2-97e5-f4dcd0f9f15d",
        "outputId": "0e5798c1-7794-4947-a4b7-a232e4871e8d"
      },
      "outputs": [
        {
          "data": {
            "text/plain": [
              "22"
            ]
          },
          "execution_count": 136,
          "metadata": {},
          "output_type": "execute_result"
        }
      ],
      "source": [
        "L1.max()"
      ]
    },
    {
      "cell_type": "code",
      "execution_count": null,
      "id": "444c3db5-ae13-4e04-906f-5d3df8b3a699",
      "metadata": {
        "id": "444c3db5-ae13-4e04-906f-5d3df8b3a699"
      },
      "outputs": [],
      "source": [
        "L1_2D = np.random.randint(1,50,(2,3))\n",
        "L2_2D = np.random.randint(1,50,(2,3))"
      ]
    },
    {
      "cell_type": "code",
      "execution_count": null,
      "id": "dd16a80b-4d48-413c-b8cc-96ec09f6f698",
      "metadata": {
        "id": "dd16a80b-4d48-413c-b8cc-96ec09f6f698",
        "outputId": "2388993c-7b41-48ab-dc63-669f9730f81a"
      },
      "outputs": [
        {
          "data": {
            "text/plain": [
              "array([[1073, 1980,  329],\n",
              "       [  47, 2009,   50]])"
            ]
          },
          "execution_count": 138,
          "metadata": {},
          "output_type": "execute_result"
        }
      ],
      "source": [
        "L1_2D * L2_2D"
      ]
    },
    {
      "cell_type": "code",
      "execution_count": null,
      "id": "6dbc7b03-6bae-4b46-9d1e-3db1fcfe5b46",
      "metadata": {
        "id": "6dbc7b03-6bae-4b46-9d1e-3db1fcfe5b46",
        "outputId": "bcf385a4-8732-4ccd-d86a-1dafc6ca31b1"
      },
      "outputs": [
        {
          "data": {
            "text/plain": [
              "array([[66, 89, 54],\n",
              "       [48, 90, 15]])"
            ]
          },
          "execution_count": 139,
          "metadata": {},
          "output_type": "execute_result"
        }
      ],
      "source": [
        "L1_2D + L2_2D"
      ]
    },
    {
      "cell_type": "code",
      "execution_count": null,
      "id": "39f47ab7-6d03-4c04-9954-6c96c2508ffc",
      "metadata": {
        "id": "39f47ab7-6d03-4c04-9954-6c96c2508ffc",
        "outputId": "c6c6829b-c94a-417d-9cb4-816e5dd3ad61"
      },
      "outputs": [
        {
          "data": {
            "text/plain": [
              "array([[29, 45,  7],\n",
              "       [ 1, 49, 10]])"
            ]
          },
          "execution_count": 140,
          "metadata": {},
          "output_type": "execute_result"
        }
      ],
      "source": [
        "L1_2D"
      ]
    },
    {
      "cell_type": "code",
      "execution_count": null,
      "id": "2aebcbcc-9a14-4425-87b4-44219ae81037",
      "metadata": {
        "id": "2aebcbcc-9a14-4425-87b4-44219ae81037",
        "outputId": "2a509052-78a0-4186-a5e8-1d733a66c633"
      },
      "outputs": [
        {
          "data": {
            "text/plain": [
              "array([[37, 44, 47],\n",
              "       [47, 41,  5]])"
            ]
          },
          "execution_count": 141,
          "metadata": {},
          "output_type": "execute_result"
        }
      ],
      "source": [
        "L2_2D"
      ]
    },
    {
      "cell_type": "code",
      "execution_count": null,
      "id": "2d278484-6f37-4539-9705-8f919a03c9fc",
      "metadata": {
        "id": "2d278484-6f37-4539-9705-8f919a03c9fc",
        "outputId": "4f08895e-2bd9-4a29-8183-89e391615b5c"
      },
      "outputs": [
        {
          "data": {
            "text/plain": [
              "array([[ -8,   1, -40],\n",
              "       [-46,   8,   5]])"
            ]
          },
          "execution_count": 142,
          "metadata": {},
          "output_type": "execute_result"
        }
      ],
      "source": [
        "L1_2D -L2_2D"
      ]
    },
    {
      "cell_type": "code",
      "execution_count": null,
      "id": "d36668b1-81bd-4c25-bce5-ce3d05a61a08",
      "metadata": {
        "id": "d36668b1-81bd-4c25-bce5-ce3d05a61a08",
        "outputId": "10edd2a5-a604-487d-925e-3cde1b4845eb"
      },
      "outputs": [
        {
          "data": {
            "text/plain": [
              "array([[1073, 1980,  329],\n",
              "       [  47, 2009,   50]])"
            ]
          },
          "execution_count": 143,
          "metadata": {},
          "output_type": "execute_result"
        }
      ],
      "source": [
        "L1_2D * L2_2D"
      ]
    },
    {
      "cell_type": "code",
      "execution_count": null,
      "id": "d1414a28-5c77-4b3c-b90e-401bb5fefd37",
      "metadata": {
        "id": "d1414a28-5c77-4b3c-b90e-401bb5fefd37"
      },
      "outputs": [],
      "source": [
        "L1_2D = np.random.randint(1,50,(2,3))\n",
        "L2_2D = np.random.randint(1,50,(5,3))"
      ]
    },
    {
      "cell_type": "code",
      "execution_count": null,
      "id": "35aa3ced-676b-4390-a182-5c0222e2e016",
      "metadata": {
        "id": "35aa3ced-676b-4390-a182-5c0222e2e016",
        "outputId": "4589f3f6-81aa-454a-cc4a-b9f5a3bbc19f"
      },
      "outputs": [
        {
          "data": {
            "text/plain": [
              "array([[40, 16, 10],\n",
              "       [42, 11, 20]])"
            ]
          },
          "execution_count": 151,
          "metadata": {},
          "output_type": "execute_result"
        }
      ],
      "source": [
        "L1_2D"
      ]
    },
    {
      "cell_type": "code",
      "execution_count": null,
      "id": "55632048-147b-4d9a-93b5-a455e83fd80f",
      "metadata": {
        "id": "55632048-147b-4d9a-93b5-a455e83fd80f",
        "outputId": "4de49e03-fe59-4b93-f5d1-34d463694b24"
      },
      "outputs": [
        {
          "data": {
            "text/plain": [
              "array([[15, 11, 20],\n",
              "       [18, 11, 25],\n",
              "       [28, 20,  8],\n",
              "       [15, 22, 36],\n",
              "       [ 2,  1, 45]])"
            ]
          },
          "execution_count": 152,
          "metadata": {},
          "output_type": "execute_result"
        }
      ],
      "source": [
        "L2_2D"
      ]
    },
    {
      "cell_type": "code",
      "execution_count": null,
      "id": "6a20ef04-4c55-4c43-a72d-3f838b580c36",
      "metadata": {
        "id": "6a20ef04-4c55-4c43-a72d-3f838b580c36"
      },
      "outputs": [],
      "source": []
    }
  ],
  "metadata": {
    "kernelspec": {
      "display_name": "Python 3 (ipykernel)",
      "language": "python",
      "name": "python3"
    },
    "language_info": {
      "codemirror_mode": {
        "name": "ipython",
        "version": 3
      },
      "file_extension": ".py",
      "mimetype": "text/x-python",
      "name": "python",
      "nbconvert_exporter": "python",
      "pygments_lexer": "ipython3",
      "version": "3.12.3"
    },
    "colab": {
      "provenance": [],
      "include_colab_link": true
    }
  },
  "nbformat": 4,
  "nbformat_minor": 5
}