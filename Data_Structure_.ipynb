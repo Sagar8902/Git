{
  "cells": [
    {
      "cell_type": "markdown",
      "metadata": {
        "id": "view-in-github",
        "colab_type": "text"
      },
      "source": [
        "<a href=\"https://colab.research.google.com/github/Sagar8902/Git/blob/master/Data_Structure_.ipynb\" target=\"_parent\"><img src=\"https://colab.research.google.com/assets/colab-badge.svg\" alt=\"Open In Colab\"/></a>"
      ]
    },
    {
      "cell_type": "markdown",
      "id": "1cea4b45-9389-4158-9f0b-62900a1e098b",
      "metadata": {
        "id": "1cea4b45-9389-4158-9f0b-62900a1e098b"
      },
      "source": [
        "## Data Structure"
      ]
    },
    {
      "cell_type": "code",
      "execution_count": null,
      "id": "2fa78e89-5f7c-4cf1-aed8-ddc772ad2e33",
      "metadata": {
        "id": "2fa78e89-5f7c-4cf1-aed8-ddc772ad2e33"
      },
      "outputs": [],
      "source": [
        "string = \"This is my first string\"\n",
        "list = \"python\""
      ]
    },
    {
      "cell_type": "code",
      "execution_count": null,
      "id": "3a705440-615b-46b6-9f3d-081fda312af4",
      "metadata": {
        "id": "3a705440-615b-46b6-9f3d-081fda312af4",
        "outputId": "d1bcdc6a-1a22-434a-f460-a3ec50dc6575"
      },
      "outputs": [
        {
          "data": {
            "text/plain": [
              "'This is my first string python'"
            ]
          },
          "execution_count": 5,
          "metadata": {},
          "output_type": "execute_result"
        }
      ],
      "source": [
        "string + \" \" +list"
      ]
    },
    {
      "cell_type": "code",
      "execution_count": null,
      "id": "1b1661bd-2ae3-414c-aa4a-b21ef736c920",
      "metadata": {
        "id": "1b1661bd-2ae3-414c-aa4a-b21ef736c920",
        "outputId": "a7e155a6-d936-4c74-f76c-50e4749b2a5a"
      },
      "outputs": [
        {
          "name": "stdout",
          "output_type": "stream",
          "text": [
            "This \n"
          ]
        }
      ],
      "source": [
        "print(string[0:5])"
      ]
    },
    {
      "cell_type": "code",
      "execution_count": null,
      "id": "a968fdb9-bf8e-4b37-868d-4656e73bccc0",
      "metadata": {
        "id": "a968fdb9-bf8e-4b37-868d-4656e73bccc0",
        "outputId": "b4440599-0c6b-42a6-8bc6-5e33b0fe1677"
      },
      "outputs": [
        {
          "name": "stdout",
          "output_type": "stream",
          "text": [
            "s is m\n"
          ]
        }
      ],
      "source": [
        "print(string[3:9])"
      ]
    },
    {
      "cell_type": "code",
      "execution_count": null,
      "id": "4c25a5a6-3b25-461b-ab31-f080ae69f578",
      "metadata": {
        "id": "4c25a5a6-3b25-461b-ab31-f080ae69f578",
        "outputId": "93d9a700-77de-4089-90b4-f27a795f1f77"
      },
      "outputs": [
        {
          "name": "stdout",
          "output_type": "stream",
          "text": [
            "g\n"
          ]
        }
      ],
      "source": [
        "print(string[-1])"
      ]
    },
    {
      "cell_type": "code",
      "execution_count": null,
      "id": "da93e17b-3b08-40cd-9951-f334cf7cd4cc",
      "metadata": {
        "id": "da93e17b-3b08-40cd-9951-f334cf7cd4cc",
        "outputId": "70f75f1b-ce8b-4602-f4ab-b85577d3df9e"
      },
      "outputs": [
        {
          "name": "stdout",
          "output_type": "stream",
          "text": [
            " my first string\n"
          ]
        }
      ],
      "source": [
        "print(string[7:])"
      ]
    },
    {
      "cell_type": "code",
      "execution_count": null,
      "id": "b9b7ecf1-febc-4060-a6bc-224661b928c6",
      "metadata": {
        "id": "b9b7ecf1-febc-4060-a6bc-224661b928c6"
      },
      "outputs": [],
      "source": [
        "list_1 = [2,5,3,4,6,2,4]\n",
        "list_2 = [6,5,4,8,4,5]"
      ]
    },
    {
      "cell_type": "code",
      "execution_count": null,
      "id": "7babf038-4ec1-437c-9713-8622ecc0239e",
      "metadata": {
        "id": "7babf038-4ec1-437c-9713-8622ecc0239e",
        "outputId": "85544f78-0065-4eef-d0ce-b5cbdae93a3d"
      },
      "outputs": [
        {
          "data": {
            "text/plain": [
              "[2, 5, 3, 4, 6, 2, 4, 6, 5, 4, 8, 4, 5]"
            ]
          },
          "execution_count": 16,
          "metadata": {},
          "output_type": "execute_result"
        }
      ],
      "source": [
        "list_1 + list_2"
      ]
    },
    {
      "cell_type": "code",
      "execution_count": null,
      "id": "b31ec1b1-3b48-47f9-a5cf-c74f6d89e37d",
      "metadata": {
        "id": "b31ec1b1-3b48-47f9-a5cf-c74f6d89e37d",
        "outputId": "42d0df37-371f-44f2-b38d-3baba84cd74a"
      },
      "outputs": [
        {
          "name": "stdout",
          "output_type": "stream",
          "text": [
            "[2, 5, 3, 4, 6, 2, 4, 6, 5, 4, 8, 4, 5]\n"
          ]
        }
      ],
      "source": [
        "print(list_1 +list_2)"
      ]
    },
    {
      "cell_type": "code",
      "execution_count": null,
      "id": "025f629d-19fd-4f7c-b50c-9a6623afa641",
      "metadata": {
        "id": "025f629d-19fd-4f7c-b50c-9a6623afa641",
        "outputId": "51b8750a-2488-43bc-89d4-d151a00a2041"
      },
      "outputs": [
        {
          "data": {
            "text/plain": [
              "'THIS IS MY FIRST STRING'"
            ]
          },
          "execution_count": 18,
          "metadata": {},
          "output_type": "execute_result"
        }
      ],
      "source": [
        "string.upper()"
      ]
    },
    {
      "cell_type": "code",
      "execution_count": null,
      "id": "6d491bfd-59d7-49b3-9544-7542ad7b3e92",
      "metadata": {
        "id": "6d491bfd-59d7-49b3-9544-7542ad7b3e92",
        "outputId": "4d914f9c-dc36-4f47-bf28-6d4e173c81a5"
      },
      "outputs": [
        {
          "data": {
            "text/plain": [
              "'This is my first string'"
            ]
          },
          "execution_count": 19,
          "metadata": {},
          "output_type": "execute_result"
        }
      ],
      "source": [
        "string.capitalize()"
      ]
    },
    {
      "cell_type": "code",
      "execution_count": null,
      "id": "efabb587-c7b8-4f6f-951e-5ad0132307ea",
      "metadata": {
        "id": "efabb587-c7b8-4f6f-951e-5ad0132307ea",
        "outputId": "93f75d5a-b111-4092-aa2d-d75c41454283"
      },
      "outputs": [
        {
          "data": {
            "text/plain": [
              "'this is my first string'"
            ]
          },
          "execution_count": 20,
          "metadata": {},
          "output_type": "execute_result"
        }
      ],
      "source": [
        "string.lower()"
      ]
    },
    {
      "cell_type": "code",
      "execution_count": null,
      "id": "40a8969d-afe7-4e75-ad03-c601e83fdf53",
      "metadata": {
        "id": "40a8969d-afe7-4e75-ad03-c601e83fdf53"
      },
      "outputs": [],
      "source": [
        "list = [85,6,4,9,7,59,49,47,61]"
      ]
    },
    {
      "cell_type": "code",
      "execution_count": null,
      "id": "176be366-b24a-4e87-968d-85fd1e09bfa2",
      "metadata": {
        "id": "176be366-b24a-4e87-968d-85fd1e09bfa2",
        "outputId": "362beafe-5e2b-487c-cefc-d82a86bc1da5"
      },
      "outputs": [
        {
          "name": "stdout",
          "output_type": "stream",
          "text": [
            "<class 'list'>\n"
          ]
        }
      ],
      "source": [
        "print(type(list))"
      ]
    },
    {
      "cell_type": "code",
      "execution_count": null,
      "id": "de6b79fd-5cbb-4c01-8d12-f24258567292",
      "metadata": {
        "id": "de6b79fd-5cbb-4c01-8d12-f24258567292",
        "outputId": "d107c213-b338-4b3f-aa8e-382728378a1a"
      },
      "outputs": [
        {
          "name": "stdout",
          "output_type": "stream",
          "text": [
            "[4, 6, 7, 9, 47, 49, 59, 61, 85]\n"
          ]
        }
      ],
      "source": [
        "print(list)"
      ]
    },
    {
      "cell_type": "code",
      "execution_count": null,
      "id": "c2be48d9-0505-42fa-99fa-2ebee375bc51",
      "metadata": {
        "id": "c2be48d9-0505-42fa-99fa-2ebee375bc51"
      },
      "outputs": [],
      "source": [
        "list.reverse()"
      ]
    },
    {
      "cell_type": "code",
      "execution_count": null,
      "id": "2c2bcb49-6861-4f6b-b413-968798e87c0c",
      "metadata": {
        "id": "2c2bcb49-6861-4f6b-b413-968798e87c0c",
        "outputId": "0822a290-6b80-4cd1-e685-dcce8f87878f"
      },
      "outputs": [
        {
          "name": "stdout",
          "output_type": "stream",
          "text": [
            "[85, 61, 59, 49, 47, 9, 7, 6, 4]\n"
          ]
        }
      ],
      "source": [
        "print(list)"
      ]
    },
    {
      "cell_type": "code",
      "execution_count": null,
      "id": "1df00efb-c67a-4376-8723-f1e05f914e6e",
      "metadata": {
        "id": "1df00efb-c67a-4376-8723-f1e05f914e6e"
      },
      "outputs": [],
      "source": [
        "list.remove(85)"
      ]
    },
    {
      "cell_type": "code",
      "execution_count": null,
      "id": "3d4a079e-5b4f-4298-8201-5edc61a16b83",
      "metadata": {
        "id": "3d4a079e-5b4f-4298-8201-5edc61a16b83",
        "outputId": "b841ba92-0509-4ea0-a40e-3c574c71c075"
      },
      "outputs": [
        {
          "name": "stdout",
          "output_type": "stream",
          "text": [
            "[61, 59, 49, 47, 9, 7, 6, 4]\n"
          ]
        }
      ],
      "source": [
        "print(list)"
      ]
    },
    {
      "cell_type": "code",
      "execution_count": null,
      "id": "493c6faf-0d03-434a-b21f-17fb088859ad",
      "metadata": {
        "id": "493c6faf-0d03-434a-b21f-17fb088859ad"
      },
      "outputs": [],
      "source": [
        "s1 = string.split(\"-\")"
      ]
    },
    {
      "cell_type": "code",
      "execution_count": null,
      "id": "fbaf9c8a-f824-465a-ac1a-49fa9d9052e3",
      "metadata": {
        "id": "fbaf9c8a-f824-465a-ac1a-49fa9d9052e3",
        "outputId": "9051524a-78c5-409f-df20-4f15160ded9b"
      },
      "outputs": [
        {
          "name": "stdout",
          "output_type": "stream",
          "text": [
            "['This is my first string']\n"
          ]
        }
      ],
      "source": [
        "print(s1)"
      ]
    },
    {
      "cell_type": "code",
      "execution_count": null,
      "id": "cf23f59d-a6c3-41b8-a71b-97c51412ee8e",
      "metadata": {
        "id": "cf23f59d-a6c3-41b8-a71b-97c51412ee8e"
      },
      "outputs": [],
      "source": [
        "tup = ([\"sam\",],1,2)"
      ]
    },
    {
      "cell_type": "code",
      "execution_count": null,
      "id": "55eda9b7-77a4-4800-9e49-816222d47093",
      "metadata": {
        "id": "55eda9b7-77a4-4800-9e49-816222d47093",
        "outputId": "6e8a66ac-5f1b-4c8b-eef8-5d72845cabda"
      },
      "outputs": [
        {
          "name": "stdout",
          "output_type": "stream",
          "text": [
            "<class 'tuple'>\n"
          ]
        }
      ],
      "source": [
        "print(type(tup))"
      ]
    },
    {
      "cell_type": "code",
      "execution_count": null,
      "id": "e70e9248-817e-4e8a-86b5-63100b5acd44",
      "metadata": {
        "id": "e70e9248-817e-4e8a-86b5-63100b5acd44"
      },
      "outputs": [],
      "source": [
        "set1 = {1,5,6,3,4,8,5,2}\n",
        "set2 = {1,5,6,7,2,10,9,11}"
      ]
    },
    {
      "cell_type": "code",
      "execution_count": null,
      "id": "2721a743-0842-444f-9a25-22da1af74be4",
      "metadata": {
        "id": "2721a743-0842-444f-9a25-22da1af74be4",
        "outputId": "9772ae6d-9603-4f8a-d1cc-f4192a722d96"
      },
      "outputs": [
        {
          "name": "stdout",
          "output_type": "stream",
          "text": [
            "{1, 2, 3, 4, 5, 6, 8}\n",
            "{1, 2, 5, 6, 7, 9, 10, 11}\n"
          ]
        }
      ],
      "source": [
        "print(set1)\n",
        "print(set2)"
      ]
    },
    {
      "cell_type": "code",
      "execution_count": null,
      "id": "61b84c43-bbc2-498b-93f4-a453773e6b5c",
      "metadata": {
        "id": "61b84c43-bbc2-498b-93f4-a453773e6b5c",
        "outputId": "06ff055a-93a8-418f-c55d-a7feab1fff7a"
      },
      "outputs": [
        {
          "name": "stdout",
          "output_type": "stream",
          "text": [
            "{1, 2, 3, 4, 5, 6, 7, 8, 9, 10, 11}\n"
          ]
        }
      ],
      "source": [
        "print(set1.union(set2))"
      ]
    },
    {
      "cell_type": "code",
      "execution_count": null,
      "id": "dfcf5215-8887-462b-a3d4-f69392737bd0",
      "metadata": {
        "id": "dfcf5215-8887-462b-a3d4-f69392737bd0",
        "outputId": "7c95dbc7-3121-4525-b985-65fe9355f452"
      },
      "outputs": [
        {
          "name": "stdout",
          "output_type": "stream",
          "text": [
            "{1, 2, 5, 6}\n"
          ]
        }
      ],
      "source": [
        "print(set1.intersection(set2))"
      ]
    },
    {
      "cell_type": "code",
      "execution_count": null,
      "id": "9fc98ad9-7769-4e9f-bd2f-69566c726256",
      "metadata": {
        "id": "9fc98ad9-7769-4e9f-bd2f-69566c726256",
        "outputId": "4e37c77a-03af-402f-a4e1-412b87228139"
      },
      "outputs": [
        {
          "data": {
            "text/plain": [
              "2"
            ]
          },
          "execution_count": 74,
          "metadata": {},
          "output_type": "execute_result"
        }
      ],
      "source": [
        "set1.pop()"
      ]
    },
    {
      "cell_type": "code",
      "execution_count": null,
      "id": "b362e42d-9c97-4445-833e-33973fbcddc0",
      "metadata": {
        "id": "b362e42d-9c97-4445-833e-33973fbcddc0",
        "outputId": "dec0f70b-beb8-4df9-99b4-2cb1d00dbbcc"
      },
      "outputs": [
        {
          "name": "stdout",
          "output_type": "stream",
          "text": [
            "{3, 4, 5, 6, 8}\n"
          ]
        }
      ],
      "source": [
        "print(set1)"
      ]
    },
    {
      "cell_type": "code",
      "execution_count": null,
      "id": "9063705d-698b-41d2-8186-ce3a5bee69b1",
      "metadata": {
        "id": "9063705d-698b-41d2-8186-ce3a5bee69b1"
      },
      "outputs": [],
      "source": [
        "set1.update([5,6,4,9])"
      ]
    },
    {
      "cell_type": "code",
      "execution_count": null,
      "id": "44d03234-dba8-44c1-b904-9ed99d32bc5d",
      "metadata": {
        "id": "44d03234-dba8-44c1-b904-9ed99d32bc5d",
        "outputId": "45c76bb3-6fb6-49af-a8b6-a996297cf29f"
      },
      "outputs": [
        {
          "name": "stdout",
          "output_type": "stream",
          "text": [
            "{3, 4, 5, 6, 8, 9}\n"
          ]
        }
      ],
      "source": [
        "print(set1)"
      ]
    },
    {
      "cell_type": "code",
      "execution_count": null,
      "id": "be55ff24-445d-4b61-ab6f-0c59c942c1f8",
      "metadata": {
        "id": "be55ff24-445d-4b61-ab6f-0c59c942c1f8"
      },
      "outputs": [],
      "source": [
        "set1.add(10)"
      ]
    },
    {
      "cell_type": "code",
      "execution_count": null,
      "id": "f6dec54c-921a-4bed-b2b6-3080fea05af0",
      "metadata": {
        "id": "f6dec54c-921a-4bed-b2b6-3080fea05af0",
        "outputId": "0c230abc-e2a6-43b3-be2c-50c4b071ef28"
      },
      "outputs": [
        {
          "name": "stdout",
          "output_type": "stream",
          "text": [
            "{3, 4, 5, 6, 8, 9, 10}\n"
          ]
        }
      ],
      "source": [
        "print(set1)"
      ]
    },
    {
      "cell_type": "code",
      "execution_count": null,
      "id": "1e455466-cdc1-4e6c-a9f2-4e03d1c402f8",
      "metadata": {
        "id": "1e455466-cdc1-4e6c-a9f2-4e03d1c402f8",
        "outputId": "005a8d4c-47d5-4f89-d62d-421fdacf4d5d"
      },
      "outputs": [
        {
          "data": {
            "text/plain": [
              "{1, 2, 7, 11}"
            ]
          },
          "execution_count": 88,
          "metadata": {},
          "output_type": "execute_result"
        }
      ],
      "source": [
        "set2 -set1"
      ]
    },
    {
      "cell_type": "code",
      "execution_count": null,
      "id": "b3fdc2a6-164e-4a38-a083-65f4ed33d2ff",
      "metadata": {
        "id": "b3fdc2a6-164e-4a38-a083-65f4ed33d2ff",
        "outputId": "ad3b64b7-47a2-48b9-86da-5aad431785c5"
      },
      "outputs": [
        {
          "data": {
            "text/plain": [
              "{3, 4, 8}"
            ]
          },
          "execution_count": 89,
          "metadata": {},
          "output_type": "execute_result"
        }
      ],
      "source": [
        "set1 -set2"
      ]
    },
    {
      "cell_type": "markdown",
      "id": "44ae10fe-68c2-4714-8199-3410e4e08d65",
      "metadata": {
        "id": "44ae10fe-68c2-4714-8199-3410e4e08d65"
      },
      "source": [
        "### Dictionary"
      ]
    },
    {
      "cell_type": "code",
      "execution_count": null,
      "id": "9f141e60-2d19-4491-85f7-3a3e84979487",
      "metadata": {
        "id": "9f141e60-2d19-4491-85f7-3a3e84979487"
      },
      "outputs": [],
      "source": [
        "dict = {\n",
        "       \"burger\" : 300,\n",
        "       \"pizza\":450,\n",
        "       \"sandwich\":150,\n",
        "       \"ice-tea\":100\n",
        "}"
      ]
    },
    {
      "cell_type": "code",
      "execution_count": null,
      "id": "45f0d90a-d1e7-4a11-8eca-4205e6406086",
      "metadata": {
        "id": "45f0d90a-d1e7-4a11-8eca-4205e6406086",
        "outputId": "bc30fcb9-25a2-4a04-f82e-b5a0d64843c6"
      },
      "outputs": [
        {
          "data": {
            "text/plain": [
              "450"
            ]
          },
          "execution_count": 95,
          "metadata": {},
          "output_type": "execute_result"
        }
      ],
      "source": [
        "dict[\"pizza\"]"
      ]
    },
    {
      "cell_type": "code",
      "execution_count": null,
      "id": "f181a401-540a-413a-a404-f80b6d226e98",
      "metadata": {
        "id": "f181a401-540a-413a-a404-f80b6d226e98"
      },
      "outputs": [],
      "source": [
        "dict[\"samosa\"] = 50"
      ]
    },
    {
      "cell_type": "code",
      "execution_count": null,
      "id": "640e5726-72c2-4ad4-b05f-5d30151576e2",
      "metadata": {
        "id": "640e5726-72c2-4ad4-b05f-5d30151576e2",
        "outputId": "1d51e979-c1cd-463e-8508-1d5be770cb35"
      },
      "outputs": [
        {
          "name": "stdout",
          "output_type": "stream",
          "text": [
            "{'burger': 300, 'pizza': 450, 'sandwich': 150, 'ice-tea': 100, 'samosa': 50}\n"
          ]
        }
      ],
      "source": [
        "print(dict)"
      ]
    },
    {
      "cell_type": "code",
      "execution_count": null,
      "id": "ae617d01-0c60-4aab-8b26-629ff4c9318c",
      "metadata": {
        "id": "ae617d01-0c60-4aab-8b26-629ff4c9318c"
      },
      "outputs": [],
      "source": []
    }
  ],
  "metadata": {
    "kernelspec": {
      "display_name": "Python 3 (ipykernel)",
      "language": "python",
      "name": "python3"
    },
    "language_info": {
      "codemirror_mode": {
        "name": "ipython",
        "version": 3
      },
      "file_extension": ".py",
      "mimetype": "text/x-python",
      "name": "python",
      "nbconvert_exporter": "python",
      "pygments_lexer": "ipython3",
      "version": "3.12.3"
    },
    "colab": {
      "provenance": [],
      "include_colab_link": true
    }
  },
  "nbformat": 4,
  "nbformat_minor": 5
}